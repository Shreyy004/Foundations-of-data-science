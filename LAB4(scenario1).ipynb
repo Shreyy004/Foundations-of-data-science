{
 "cells": [
  {
   "cell_type": "code",
   "execution_count": null,
   "metadata": {
    "colab": {
     "base_uri": "https://localhost:8080/"
    },
    "id": "G8pDjxs1-N6X",
    "outputId": "cd105411-7665-4734-ae94-c2b84d351f9d"
   },
   "outputs": [
    {
     "name": "stdout",
     "output_type": "stream",
     "text": [
      "   PassengerId  Survived  Pclass  \\\n",
      "0            1         0       3   \n",
      "1            2         1       1   \n",
      "2            3         1       3   \n",
      "3            4         1       1   \n",
      "4            5         0       3   \n",
      "\n",
      "                                                Name     Sex   Age  SibSp  \\\n",
      "0                            Braund, Mr. Owen Harris    male  22.0      1   \n",
      "1  Cumings, Mrs. John Bradley (Florence Briggs Th...  female  38.0      1   \n",
      "2                             Heikkinen, Miss. Laina  female  26.0      0   \n",
      "3       Futrelle, Mrs. Jacques Heath (Lily May Peel)  female  35.0      1   \n",
      "4                           Allen, Mr. William Henry    male  35.0      0   \n",
      "\n",
      "   Parch            Ticket     Fare Cabin Embarked  \n",
      "0      0         A/5 21171   7.2500   NaN        S  \n",
      "1      0          PC 17599  71.2833   C85        C  \n",
      "2      0  STON/O2. 3101282   7.9250   NaN        S  \n",
      "3      0            113803  53.1000  C123        S  \n",
      "4      0            373450   8.0500   NaN        S  \n"
     ]
    }
   ],
   "source": [
    "import pandas as pd\n",
    "df=pd.read_csv(\"/content/titanic_train.csv\")\n",
    "print(df.head())"
   ]
  },
  {
   "cell_type": "code",
   "execution_count": null,
   "metadata": {
    "colab": {
     "base_uri": "https://localhost:8080/"
    },
    "id": "V1yrwrXz-wGZ",
    "outputId": "865040ff-24b4-4cf0-f20c-6adccdadb929"
   },
   "outputs": [
    {
     "name": "stdout",
     "output_type": "stream",
     "text": [
      "Age         177\n",
      "Cabin       687\n",
      "Embarked      2\n",
      "dtype: int64\n"
     ]
    }
   ],
   "source": [
    "nullvalue=df.isnull().sum()\n",
    "nullvalue=nullvalue[nullvalue>0]\n",
    "print(nullvalue)"
   ]
  },
  {
   "cell_type": "code",
   "execution_count": null,
   "metadata": {
    "colab": {
     "base_uri": "https://localhost:8080/"
    },
    "id": "BELgbQXt-4jT",
    "outputId": "e13e97ec-a24a-4812-d9db-d2fe8cdcd988"
   },
   "outputs": [
    {
     "data": {
      "text/plain": [
       "0"
      ]
     },
     "execution_count": 3,
     "metadata": {},
     "output_type": "execute_result"
    }
   ],
   "source": [
    "df['Age'].fillna(df['Age'].mean(),inplace=True)\n",
    "df['Age'].isnull().sum()"
   ]
  },
  {
   "cell_type": "code",
   "execution_count": null,
   "metadata": {
    "colab": {
     "base_uri": "https://localhost:8080/"
    },
    "id": "JXN3ZGwq_1p1",
    "outputId": "f92f0005-e442-4d3d-b9f8-27b80ed6703e"
   },
   "outputs": [
    {
     "data": {
      "text/plain": [
       "PassengerId      0\n",
       "Survived         0\n",
       "Pclass           0\n",
       "Name             0\n",
       "Sex              0\n",
       "Age              0\n",
       "SibSp            0\n",
       "Parch            0\n",
       "Ticket           0\n",
       "Fare             0\n",
       "Cabin          687\n",
       "Embarked         0\n",
       "dtype: int64"
      ]
     },
     "execution_count": 4,
     "metadata": {},
     "output_type": "execute_result"
    }
   ],
   "source": [
    "df['Embarked'].fillna(df['Embarked'].mode()[0],inplace=True)\n",
    "df.isnull().sum()"
   ]
  },
  {
   "cell_type": "code",
   "execution_count": null,
   "metadata": {
    "colab": {
     "base_uri": "https://localhost:8080/"
    },
    "id": "oZv3CYZpAJfU",
    "outputId": "1908a3ef-f148-4721-bfbd-0e94ffb4ba5b"
   },
   "outputs": [
    {
     "name": "stdout",
     "output_type": "stream",
     "text": [
      "Number of negative fares: 0\n",
      "Number of negative fares: 0\n"
     ]
    }
   ],
   "source": [
    "\n",
    "# Define a function to replace negative fare values with the median fare\n",
    "def replace_negative_fares(df):\n",
    "    # Calculate the median fare\n",
    "    median_fare = df['Fare'].median()\n",
    "\n",
    "    # Find negative fares\n",
    "    negative_fares = df['Fare'] < 0\n",
    "\n",
    "    # Replace negative fares with the median fare\n",
    "    df.loc[negative_fares, 'Fare'] = median_fare\n",
    "\n",
    "\n",
    "# Apply the function to the dataset\n",
    "replace_negative_fares(df)\n",
    "\n",
    "# Verify that there are no negative fares left\n",
    "print(\"Number of negative fares:\", (df['Fare'] < 0).sum())"
   ]
  },
  {
   "cell_type": "code",
   "execution_count": null,
   "metadata": {
    "colab": {
     "base_uri": "https://localhost:8080/"
    },
    "id": "7z-q1OoZBBkL",
    "outputId": "f885183b-1d7a-400a-da94-026c9af65ac2"
   },
   "outputs": [
    {
     "name": "stdout",
     "output_type": "stream",
     "text": [
      "Number of ages greater than 100: 0\n",
      "Number of ages greater than 100: 0\n"
     ]
    }
   ],
   "source": [
    "\n",
    "    # Calculate the median age\n",
    "median_age = df['Age'].median()\n",
    "\n",
    "    # Find ages greater than 100\n",
    "erroneous_ages = df['Age'] > 100\n",
    "\n",
    "# Replace erroneous ages with the median age\n",
    "df.loc[erroneous_ages, 'Age'] = median_age\n",
    "\n",
    "\n",
    "\n",
    "# Verify that there are no ages greater than 100 left\n",
    "print(\"Number of ages greater than 100:\", (df['Age'] > 100).sum())"
   ]
  },
  {
   "cell_type": "code",
   "execution_count": null,
   "metadata": {
    "colab": {
     "base_uri": "https://localhost:8080/"
    },
    "id": "ObsaFJAJBuwj",
    "outputId": "558276aa-c9c3-4a6c-8a11-811bb73f5d8e"
   },
   "outputs": [
    {
     "name": "stdout",
     "output_type": "stream",
     "text": [
      "   Cabin\n",
      "0    NaN\n",
      "1    C85\n",
      "2    NaN\n",
      "3   C123\n",
      "4    NaN\n",
      "5    NaN\n",
      "6    E46\n",
      "7    NaN\n",
      "8    NaN\n",
      "9    NaN\n",
      "10    G6\n",
      "11  C103\n",
      "12   NaN\n",
      "13   NaN\n",
      "14   NaN\n",
      "15   NaN\n",
      "16   NaN\n",
      "17   NaN\n",
      "18   NaN\n",
      "19   NaN\n",
      "20   NaN\n",
      "21   D56\n",
      "22   NaN\n",
      "23    A6\n",
      "24   NaN\n",
      "25   NaN\n",
      "26   NaN\n",
      "27   C23\n",
      "28   NaN\n",
      "29   NaN\n"
     ]
    }
   ],
   "source": [
    "df['Cabin'] = df['Cabin'].apply(lambda x: x.split()[0] if pd.notnull(x) else x)\n",
    "\n",
    "\n",
    "# Display the first few rows to verify the result\n",
    "print(df[['Cabin']].head(30))\n"
   ]
  },
  {
   "cell_type": "code",
   "execution_count": null,
   "metadata": {
    "colab": {
     "base_uri": "https://localhost:8080/"
    },
    "id": "fvFqj5DNCMSc",
    "outputId": "b7dde66d-da27-45aa-d9bb-d6c732041884"
   },
   "outputs": [
    {
     "name": "stdout",
     "output_type": "stream",
     "text": [
      "Data type of Fare column after conversion: float64\n"
     ]
    }
   ],
   "source": [
    "if df['Fare'].dtype != 'float64':\n",
    "    df['Fare'] = df['Fare'].astype(float)\n",
    "\n",
    "# Verify the conversion\n",
    "print(\"Data type of Fare column after conversion:\", df['Fare'].dtype)"
   ]
  },
  {
   "cell_type": "code",
   "execution_count": null,
   "metadata": {
    "colab": {
     "base_uri": "https://localhost:8080/"
    },
    "id": "F7sjlvzkDZ1W",
    "outputId": "6a95d24d-ea44-4f0e-f580-855687e48aea"
   },
   "outputs": [
    {
     "name": "stdout",
     "output_type": "stream",
     "text": [
      "Number of duplicate rows: 0\n",
      "Number of duplicate rows after removal: 0\n"
     ]
    }
   ],
   "source": [
    "# Check for duplicate rows\n",
    "duplicate_rows = df.duplicated()\n",
    "num_duplicates = duplicate_rows.sum()\n",
    "print(\"Number of duplicate rows:\", num_duplicates)\n",
    "\n",
    "# Remove duplicate rows\n",
    "df = df.drop_duplicates()\n",
    "\n",
    "# Verify that duplicates have been removed\n",
    "num_duplicates_after = df.duplicated().sum()\n",
    "print(\"Number of duplicate rows after removal:\", num_duplicates_after)"
   ]
  },
  {
   "cell_type": "code",
   "execution_count": null,
   "metadata": {
    "colab": {
     "base_uri": "https://localhost:8080/"
    },
    "id": "xpmBUzgVDzqr",
    "outputId": "50f4538f-a37d-4490-f342-ef66d3f4b241"
   },
   "outputs": [
    {
     "name": "stdout",
     "output_type": "stream",
     "text": [
      "Col does not exist\n",
      "Columns after removing 'Name_duplicate':\n",
      "Index(['PassengerId', 'Survived', 'Pclass', 'Name', 'Sex', 'Age', 'SibSp',\n",
      "       'Parch', 'Ticket', 'Fare', 'Cabin', 'Embarked'],\n",
      "      dtype='object')\n"
     ]
    }
   ],
   "source": [
    "# Remove the 'Name_duplicate' column\n",
    "if 'Name_duplicate' in df.columns:\n",
    "    df = df.drop(columns=['Name_duplicate'])\n",
    "else:\n",
    "  print(\"Col does not exist\")\n",
    "# Verify the removal of the column\n",
    "print(\"Columns after removing 'Name_duplicate':\")\n",
    "print(df.columns)"
   ]
  },
  {
   "cell_type": "code",
   "execution_count": null,
   "metadata": {
    "id": "MXLpRlc2FOdi"
   },
   "outputs": [],
   "source": []
  }
 ],
 "metadata": {
  "colab": {
   "provenance": []
  },
  "kernelspec": {
   "display_name": "Python 3 (ipykernel)",
   "language": "python",
   "name": "python3"
  },
  "language_info": {
   "codemirror_mode": {
    "name": "ipython",
    "version": 3
   },
   "file_extension": ".py",
   "mimetype": "text/x-python",
   "name": "python",
   "nbconvert_exporter": "python",
   "pygments_lexer": "ipython3",
   "version": "3.9.6"
  }
 },
 "nbformat": 4,
 "nbformat_minor": 4
}
