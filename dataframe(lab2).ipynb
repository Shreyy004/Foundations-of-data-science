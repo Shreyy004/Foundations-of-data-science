{
 "cells": [
  {
   "cell_type": "code",
   "execution_count": null,
   "metadata": {
    "colab": {
     "base_uri": "https://localhost:8080/"
    },
    "id": "g_5iI5Qe28_f",
    "outputId": "fbbfd5ee-feca-48ea-92bc-f8c7e78e76b3"
   },
   "outputs": [
    {
     "name": "stdout",
     "output_type": "stream",
     "text": [
      "    reg no     name  gender  semester  study hrs  coding completed intern  s1 score  s2 score  s3 score  cgpa\n",
      "0      101    Alice  Female         1          5                10    yes        10        20        30   8.5\n",
      "1      102      Bob    Male         2          2                 5    yes        20        30        40   9.2\n",
      "2      103  Charlie    Male         3          8                15     no        30        40        50   7.8\n",
      "3      104    David    Male         1          4                 8     no        25        35        45   8.3\n",
      "4      105      Eve  Female         2          6                12    yes        35        45        55   9.0\n",
      "5      106    Frank    Male         3          3                 7     no        28        38        48   8.1\n",
      "6      107    Grace  Female         1          7                 9    yes        22        32        42   8.7\n",
      "7      108   Hannah  Female         2          1                 3     no        15        25        35   7.5\n",
      "8      109      Ivy  Female         3          9                16    yes        40        50        60   9.3\n",
      "9      110     Jack    Male         1          5                10    yes        30        40        50   8.6\n",
      "10     111    Kevin    Male         2          2                 5     no        20        30        40   8.0\n",
      "11     112     Liam    Male         3          8                15    yes        35        45        55   9.1\n",
      "12     113      Mia  Female         1          4                 8     no        25        35        45   8.4\n",
      "13     114     Noah    Male         2          6                12    yes        30        40        50   8.9\n",
      "14     115   Olivia  Female         3          3                 7     no        28        38        48   8.2\n",
      "CSV file created successfully!\n"
     ]
    }
   ],
   "source": [
    "#creating dataframe\n",
    "import pandas as pd\n",
    "data = {\n",
    "    \"reg no\": [101, 102, 103, 104, 105, 106, 107, 108, 109, 110, 111, 112, 113, 114, 115],\n",
    "    \"name\": [\"Alice\", \"Bob\", \"Charlie\", \"David\", \"Eve\", \"Frank\", \"Grace\", \"Hannah\", \"Ivy\", \"Jack\", \"Kevin\", \"Liam\", \"Mia\", \"Noah\", \"Olivia\"],\n",
    "    \"gender\": [\"Female\", \"Male\", \"Male\", \"Male\", \"Female\", \"Male\", \"Female\", \"Female\", \"Female\", \"Male\", \"Male\", \"Male\", \"Female\", \"Male\", \"Female\"],\n",
    "    'semester': [1, 2, 3, 1, 2, 3, 1, 2, 3, 1, 2, 3, 1, 2, 3],\n",
    "    \"study hrs\": [5, 2, 8, 4, 6, 3, 7, 1, 9, 5, 2, 8, 4, 6, 3],\n",
    "    \"coding completed\": [10, 5, 15, 8, 12, 7, 9, 3, 16, 10, 5, 15, 8, 12, 7],\n",
    "    \"intern\": [\"yes\", 'yes', 'no', 'no', 'yes', 'no', 'yes', 'no', 'yes', 'yes', 'no', 'yes', 'no', 'yes', 'no'],\n",
    "    \"s1 score\": [10, 20, 30, 25, 35, 28, 22, 15, 40, 30, 20, 35, 25, 30, 28],\n",
    "    \"s2 score\": [20, 30, 40, 35, 45, 38, 32, 25, 50, 40, 30, 45, 35, 40, 38],\n",
    "    \"s3 score\": [30, 40, 50, 45, 55, 48, 42, 35, 60, 50, 40, 55, 45, 50, 48],\n",
    "    'cgpa': [8.5, 9.2, 7.8, 8.3, 9.0, 8.1, 8.7, 7.5, 9.3, 8.6, 8.0, 9.1, 8.4, 8.9, 8.2]\n",
    "}\n",
    "\n",
    "# Step 3: Create a DataFrame\n",
    "df = pd.DataFrame(data)\n",
    "\n",
    "# # Step 4: Print the DataFrame\n",
    "# print(df)\n",
    "\n",
    "# Step 5: Write the DataFrame to a CSV file\n",
    "df.to_csv('students.csv', index=True)\n",
    "print(df.to_string())\n",
    "\n",
    "print(\"CSV file created successfully!\")"
   ]
  },
  {
   "cell_type": "code",
   "execution_count": null,
   "metadata": {
    "colab": {
     "base_uri": "https://localhost:8080/"
    },
    "id": "cC6XCcLA6DMA",
    "outputId": "cb6caefb-c412-4c1e-8a6b-05f999bf99f5"
   },
   "outputs": [
    {
     "name": "stdout",
     "output_type": "stream",
     "text": [
      "First row:\n",
      "reg no                 101\n",
      "name                 Alice\n",
      "gender              Female\n",
      "semester                 1\n",
      "study hrs                5\n",
      "coding completed        10\n",
      "intern                 yes\n",
      "s1 score                10\n",
      "s2 score                20\n",
      "s3 score                30\n",
      "cgpa                   8.5\n",
      "Name: 0, dtype: object\n",
      "\n",
      "Last row:\n",
      "reg no                 115\n",
      "name                Olivia\n",
      "gender              Female\n",
      "semester                 3\n",
      "study hrs                3\n",
      "coding completed         7\n",
      "intern                  no\n",
      "s1 score                28\n",
      "s2 score                38\n",
      "s3 score                48\n",
      "cgpa                   8.2\n",
      "Name: 14, dtype: object\n"
     ]
    }
   ],
   "source": [
    "# 1. Extract information about the first row and the last row\n",
    "first_row = df.iloc[0]\n",
    "last_row = df.iloc[-1]\n",
    "print(\"First row:\")\n",
    "print(first_row)\n",
    "print(\"\\nLast row:\")\n",
    "print(last_row)\n"
   ]
  },
  {
   "cell_type": "code",
   "execution_count": null,
   "metadata": {
    "colab": {
     "base_uri": "https://localhost:8080/"
    },
    "id": "8zdO_pEn7WrZ",
    "outputId": "76d1b131-4ec1-4907-fb75-cdb652271714"
   },
   "outputs": [
    {
     "name": "stdout",
     "output_type": "stream",
     "text": [
      "\n",
      "First column:\n",
      "0     101\n",
      "1     102\n",
      "2     103\n",
      "3     104\n",
      "4     105\n",
      "5     106\n",
      "6     107\n",
      "7     108\n",
      "8     109\n",
      "9     110\n",
      "10    111\n",
      "11    112\n",
      "12    113\n",
      "13    114\n",
      "14    115\n",
      "Name: reg no, dtype: int64\n",
      "\n",
      "Last column:\n",
      "0     8.5\n",
      "1     9.2\n",
      "2     7.8\n",
      "3     8.3\n",
      "4     9.0\n",
      "5     8.1\n",
      "6     8.7\n",
      "7     7.5\n",
      "8     9.3\n",
      "9     8.6\n",
      "10    8.0\n",
      "11    9.1\n",
      "12    8.4\n",
      "13    8.9\n",
      "14    8.2\n",
      "Name: cgpa, dtype: float64\n"
     ]
    }
   ],
   "source": [
    "# 2. Extract information about the first column and the last column\n",
    "first_column = df.iloc[:, 0]\n",
    "last_column = df.iloc[:, -1]\n",
    "print(\"\\nFirst column:\")\n",
    "print(first_column)\n",
    "print(\"\\nLast column:\")\n",
    "print(last_column)"
   ]
  },
  {
   "cell_type": "code",
   "execution_count": null,
   "metadata": {
    "colab": {
     "base_uri": "https://localhost:8080/"
    },
    "id": "3m3-FCVC77HO",
    "outputId": "94e30a32-2e8a-43b1-d9fe-b186487af802"
   },
   "outputs": [
    {
     "name": "stdout",
     "output_type": "stream",
     "text": [
      "\n",
      "First 5 rows and first 5 columns:\n",
      "   reg no     name  gender  semester  study hrs\n",
      "0     101    Alice  Female         1          5\n",
      "1     102      Bob    Male         2          2\n",
      "2     103  Charlie    Male         3          8\n",
      "3     104    David    Male         1          4\n",
      "4     105      Eve  Female         2          6\n"
     ]
    }
   ],
   "source": [
    "# 3. Extract information about the first 5 rows and the first 5 columns\n",
    "first_5_rows_5_columns = df.iloc[:5, :5]\n",
    "print(\"\\nFirst 5 rows and first 5 columns:\")\n",
    "print(first_5_rows_5_columns)"
   ]
  },
  {
   "cell_type": "code",
   "execution_count": null,
   "metadata": {
    "colab": {
     "base_uri": "https://localhost:8080/"
    },
    "id": "lG9rUJ_Z8NpD",
    "outputId": "c3d5d4d2-00a2-43f2-dd3a-52cdd645f766"
   },
   "outputs": [
    {
     "name": "stdout",
     "output_type": "stream",
     "text": [
      "\n",
      "Rows 0, 3, 7, 9 and columns 0, 1, 3, 10:\n",
      "   reg no    name  semester  cgpa\n",
      "0     101   Alice         1   8.5\n",
      "3     104   David         1   8.3\n",
      "7     108  Hannah         2   7.5\n",
      "9     110    Jack         1   8.6\n"
     ]
    }
   ],
   "source": [
    "# 4. Extract information about rows 0, 3, 7, 9 and columns 0, 1, 3, 10\n",
    "specific_rows_columns = df.iloc[[0, 3, 7, 9], [0, 1, 3, 10]]\n",
    "print(\"\\nRows 0, 3, 7, 9 and columns 0, 1, 3, 10:\")\n",
    "print(specific_rows_columns)"
   ]
  },
  {
   "cell_type": "code",
   "execution_count": null,
   "metadata": {
    "colab": {
     "base_uri": "https://localhost:8080/"
    },
    "id": "7tdSTAEH9ftu",
    "outputId": "780750ef-e65d-4ddf-e58f-706595c51f6f"
   },
   "outputs": [
    {
     "name": "stdout",
     "output_type": "stream",
     "text": [
      "Student info (reg no, semester, cgpa) for student named X:\n",
      "   reg no  semester  cgpa\n",
      "8     109         3   9.3\n"
     ]
    }
   ],
   "source": [
    "# 3 (i) Extract reg no, semester, cgpa for the student named X\n",
    "s = df.loc[df['name'] ==\"Ivy\" , ['reg no', 'semester', 'cgpa']]\n",
    "print(\"Student info (reg no, semester, cgpa) for student named X:\")\n",
    "print(s.to_string())\n"
   ]
  },
  {
   "cell_type": "code",
   "execution_count": null,
   "metadata": {
    "colab": {
     "base_uri": "https://localhost:8080/"
    },
    "id": "4ewN83fw_Trn",
    "outputId": "05f8f415-63a7-4013-c55b-4dfeb7c34423"
   },
   "outputs": [
    {
     "name": "stdout",
     "output_type": "stream",
     "text": [
      "Student info (semester to cgpa) for student named X:\n",
      "   semester  study hrs  coding completed intern  s1 score  s2 score  s3 score  cgpa\n",
      "8         3          9                16    yes        40        50        60   9.3\n"
     ]
    }
   ],
   "source": [
    "# 3 (ii) Extract information from semester to cgpa for the student named X\n",
    "student_info_sem_to_cgpa = df.loc[df['name'] ==\"Ivy\", 'semester':'cgpa']\n",
    "print(\"Student info (semester to cgpa) for student named X:\")\n",
    "print(student_info_sem_to_cgpa.to_string())"
   ]
  },
  {
   "cell_type": "code",
   "execution_count": null,
   "metadata": {
    "colab": {
     "base_uri": "https://localhost:8080/"
    },
    "id": "l1Kxsw3w_toF",
    "outputId": "68b40a82-f1b5-497a-80d9-af887f3dbdb9"
   },
   "outputs": [
    {
     "name": "stdout",
     "output_type": "stream",
     "text": [
      "\n",
      "Student info (reg no, name, cgpa) for student named X and cgpa is 9.0:\n",
      "   reg no name  cgpa\n",
      "4     105  Eve   9.0\n"
     ]
    }
   ],
   "source": [
    "# 3 (iii) Extract reg no, name, cgpa for the student named X and cgpa is 9.0\n",
    "student_info_cgpa_9 = df.loc[(df['name'] == \"Eve\") & (df['cgpa'] == 9.0), ['reg no', 'name', 'cgpa']]\n",
    "print(\"\\nStudent info (reg no, name, cgpa) for student named X and cgpa is 9.0:\")\n",
    "print(student_info_cgpa_9)"
   ]
  },
  {
   "cell_type": "code",
   "execution_count": null,
   "metadata": {
    "colab": {
     "base_uri": "https://localhost:8080/"
    },
    "id": "5iK7Sfu2ANp3",
    "outputId": "f7091729-7d06-475f-df04-e57bfd082a57"
   },
   "outputs": [
    {
     "name": "stdout",
     "output_type": "stream",
     "text": [
      "\n",
      "Male students info (reg no, name, cgpa):\n",
      "    reg no     name  cgpa\n",
      "1      102      Bob   9.2\n",
      "2      103  Charlie   7.8\n",
      "3      104    David   8.3\n",
      "5      106    Frank   8.1\n",
      "9      110     Jack   8.6\n",
      "10     111    Kevin   8.0\n",
      "11     112     Liam   9.1\n",
      "13     114     Noah   8.9\n"
     ]
    }
   ],
   "source": [
    "# 3 (iv) Extract reg no, name, cgpa for the students with gender 'M'\n",
    "male_students_info = df.loc[df['gender'] == 'Male', ['reg no', 'name', 'cgpa']]\n",
    "print(\"\\nMale students info (reg no, name, cgpa):\")\n",
    "print(male_students_info)"
   ]
  },
  {
   "cell_type": "code",
   "execution_count": null,
   "metadata": {
    "colab": {
     "base_uri": "https://localhost:8080/"
    },
    "id": "UTQSKitTCiVe",
    "outputId": "d9391fa8-c4a6-43f0-9d71-faa06808577e"
   },
   "outputs": [
    {
     "name": "stdout",
     "output_type": "stream",
     "text": [
      "\n",
      "Female students with cgpa > 8.0:\n",
      "    reg no    name  gender  semester  study hrs  coding completed intern  s1 score  s2 score  s3 score  cgpa\n",
      "0      101   Alice  Female         1          5                10    yes        10        20        30   8.5\n",
      "4      105     Eve  Female         2          6                12    yes        35        45        55   9.0\n",
      "6      107   Grace  Female         1          7                 9    yes        22        32        42   8.7\n",
      "8      109     Ivy  Female         3          9                16    yes        40        50        60   9.3\n",
      "12     113     Mia  Female         1          4                 8     no        25        35        45   8.4\n",
      "14     115  Olivia  Female         3          3                 7     no        28        38        48   8.2\n"
     ]
    }
   ],
   "source": [
    "\n",
    "# 3 (v) Extract all information for the students with gender 'F' and cgpa > 8.0\n",
    "female_students_cgpa_above_8 = df.loc[(df['gender'] == 'Female') & (df['cgpa'] > 8.0)]\n",
    "print(\"\\nFemale students with cgpa > 8.0:\")\n",
    "print(female_students_cgpa_above_8.to_string())"
   ]
  },
  {
   "cell_type": "code",
   "execution_count": null,
   "metadata": {
    "id": "tNe0yhF-CsCz"
   },
   "outputs": [],
   "source": []
  }
 ],
 "metadata": {
  "colab": {
   "provenance": []
  },
  "kernelspec": {
   "display_name": "Python 3 (ipykernel)",
   "language": "python",
   "name": "python3"
  },
  "language_info": {
   "codemirror_mode": {
    "name": "ipython",
    "version": 3
   },
   "file_extension": ".py",
   "mimetype": "text/x-python",
   "name": "python",
   "nbconvert_exporter": "python",
   "pygments_lexer": "ipython3",
   "version": "3.9.6"
  }
 },
 "nbformat": 4,
 "nbformat_minor": 4
}
