{
 "cells": [
  {
   "cell_type": "markdown",
   "metadata": {
    "id": "7sRU_6NqvB81"
   },
   "source": [
    "# LAB1"
   ]
  },
  {
   "cell_type": "code",
   "execution_count": null,
   "metadata": {
    "colab": {
     "base_uri": "https://localhost:8080/"
    },
    "id": "PHATQqcIwp0W",
    "outputId": "c4f82a6a-3bf3-4c91-b484-f1ba11bd3ba0"
   },
   "outputs": [
    {
     "name": "stdout",
     "output_type": "stream",
     "text": [
      "The list of numbers is:  [95, 23, 82, 72, 67, 14, 36, 31, 54, 47]\n",
      "The minimum number is:  14\n",
      "The maximum number is:  95\n"
     ]
    }
   ],
   "source": [
    "#Create a list of 10 integers. Write a program to find the maximum and minimum\n",
    "# numbers in the list.\n",
    "\n",
    "import random\n",
    "numbers = random.sample(range(1, 100), 10)\n",
    "print(\"The list of numbers is: \", numbers)\n",
    "min_number = min(numbers)\n",
    "max_number = max(numbers)\n",
    "print(\"The minimum number is: \", min_number)\n",
    "print(\"The maximum number is: \", max_number)\n"
   ]
  },
  {
   "cell_type": "code",
   "execution_count": null,
   "metadata": {
    "colab": {
     "base_uri": "https://localhost:8080/"
    },
    "id": "f4SzYjZHw442",
    "outputId": "3b963633-d70b-4cde-aecf-bd40c0004828"
   },
   "outputs": [
    {
     "name": "stdout",
     "output_type": "stream",
     "text": [
      "[5, 4, 3, 2, 1]\n"
     ]
    }
   ],
   "source": [
    "og=[1,2,3,4,5]\n",
    "og=og[::-1]\n",
    "print(og)\n"
   ]
  },
  {
   "cell_type": "code",
   "execution_count": null,
   "metadata": {
    "colab": {
     "base_uri": "https://localhost:8080/"
    },
    "id": "Fk9hMY5hxb04",
    "outputId": "b64fe11e-0758-4799-ad9c-80353b07c7bf"
   },
   "outputs": [
    {
     "name": "stdout",
     "output_type": "stream",
     "text": [
      "The list is:  [10, 20, 30, 40, 50]\n"
     ]
    }
   ],
   "source": [
    "\n",
    "my_tuple = (10, 20, 30, 40, 50)\n",
    "\n",
    "my_list = list(my_tuple)\n",
    "\n",
    "print(\"The list is: \", my_list)\n"
   ]
  },
  {
   "cell_type": "code",
   "execution_count": null,
   "metadata": {
    "colab": {
     "base_uri": "https://localhost:8080/"
    },
    "id": "6BPqVcU3x2Ld",
    "outputId": "b40df057-3b2a-4c75-98a2-56d9c8129a18"
   },
   "outputs": [
    {
     "name": "stdout",
     "output_type": "stream",
     "text": [
      "48\n"
     ]
    }
   ],
   "source": [
    "tuple = (5,48,43,79,29)\n",
    "tuple = sorted(tuple)\n",
    "print(tuple[len(tuple)-2])"
   ]
  },
  {
   "cell_type": "code",
   "execution_count": null,
   "metadata": {
    "colab": {
     "base_uri": "https://localhost:8080/"
    },
    "id": "C-lI_rpCyElt",
    "outputId": "7cbd75f2-028d-4955-94c2-8c98e62d644e"
   },
   "outputs": [
    {
     "name": "stdout",
     "output_type": "stream",
     "text": [
      "e\n"
     ]
    }
   ],
   "source": [
    "d = {'a':1,'b':2,'c':3,'d':4,'e':5}\n",
    "max = 0\n",
    "key = ''\n",
    "for i in d:\n",
    "    if d[i] > max:\n",
    "        max = d[i]\n",
    "        key = i\n",
    "print(key)"
   ]
  },
  {
   "cell_type": "code",
   "execution_count": null,
   "metadata": {
    "colab": {
     "base_uri": "https://localhost:8080/"
    },
    "id": "KNCtHnxdybHX",
    "outputId": "a7b39046-b49a-4e27-fd8d-cd748598cee5"
   },
   "outputs": [
    {
     "name": "stdout",
     "output_type": "stream",
     "text": [
      "{'a': 1, 'b': 2, 'c': 3, 'd': 4}\n"
     ]
    }
   ],
   "source": [
    "d1 = {'a':1,'b':2}\n",
    "d2 = {'c':3,'d':4}\n",
    "d1.update(d2)\n",
    "print(d1)"
   ]
  },
  {
   "cell_type": "code",
   "execution_count": null,
   "metadata": {
    "colab": {
     "base_uri": "https://localhost:8080/"
    },
    "id": "jl-OjLURye2N",
    "outputId": "c0245fcd-71c0-4720-e4bd-65793595db58"
   },
   "outputs": [
    {
     "name": "stdout",
     "output_type": "stream",
     "text": [
      "{1, 2, 3, 4, 5, 6, 7}\n",
      "{3, 4, 5}\n"
     ]
    }
   ],
   "source": [
    "set1 = {1,2,3,4,5}\n",
    "set2 = {3,4,5,6,7}\n",
    "print(set1.union(set2))\n",
    "print(set1.intersection(set2))"
   ]
  },
  {
   "cell_type": "code",
   "execution_count": null,
   "metadata": {
    "colab": {
     "base_uri": "https://localhost:8080/"
    },
    "id": "0AHE18zg4LJe",
    "outputId": "e2b5b428-562c-440e-ae4c-922f1022a423"
   },
   "outputs": [
    {
     "name": "stdout",
     "output_type": "stream",
     "text": [
      "set1 is a subset of set2\n"
     ]
    }
   ],
   "source": [
    "# Write a program to check if a set is a subset of another set.\n",
    "\n",
    "set1 = {1, 2, 3}\n",
    "set2 = {1, 2, 3, 4, 5}\n",
    "\n",
    "if set1.issubset(set2):\n",
    "  print(\"set1 is a subset of set2\")\n",
    "else:\n",
    "  print(\"set1 is not a subset of set2\")\n"
   ]
  },
  {
   "cell_type": "code",
   "execution_count": null,
   "metadata": {
    "colab": {
     "base_uri": "https://localhost:8080/"
    },
    "id": "RSH-fZz3ykav",
    "outputId": "ee8d3bb9-6407-4736-94f1-3e7ce901048f"
   },
   "outputs": [
    {
     "name": "stdout",
     "output_type": "stream",
     "text": [
      "hello\n",
      "2\n"
     ]
    }
   ],
   "source": [
    "string = input()\n",
    "vowels = 0\n",
    "for i in string:\n",
    "    if i == 'a' or i == 'e' or i == 'i' or i == 'o' or i == 'u':\n",
    "        vowels += 1\n",
    "print(vowels)"
   ]
  },
  {
   "cell_type": "code",
   "execution_count": null,
   "metadata": {
    "colab": {
     "base_uri": "https://localhost:8080/"
    },
    "id": "e7HZxalWyo2i",
    "outputId": "0d30c254-7dde-4ea9-b06d-7fbd65c27157"
   },
   "outputs": [
    {
     "name": "stdout",
     "output_type": "stream",
     "text": [
      "wow\n",
      "True\n"
     ]
    }
   ],
   "source": [
    "string = input()\n",
    "if string == string[::-1]:\n",
    "    print('True')\n",
    "else:\n",
    "    print('False')"
   ]
  },
  {
   "cell_type": "code",
   "execution_count": null,
   "metadata": {
    "colab": {
     "base_uri": "https://localhost:8080/"
    },
    "id": "bPAM9EKDyvDk",
    "outputId": "ff4e9b01-69ef-4e33-9ec8-e9e47d1bcb42"
   },
   "outputs": [
    {
     "name": "stdout",
     "output_type": "stream",
     "text": [
      "Shreya\n",
      "S\n",
      "A\n",
      "Ahreya\n"
     ]
    }
   ],
   "source": [
    "string = input()\n",
    "sub = input()\n",
    "new = input()\n",
    "print(string.replace(sub,new))"
   ]
  },
  {
   "cell_type": "code",
   "execution_count": null,
   "metadata": {
    "colab": {
     "base_uri": "https://localhost:8080/"
    },
    "id": "qggwrIAvy3H_",
    "outputId": "124d8eb9-f7d9-4267-8309-79aaf66e8d6e"
   },
   "outputs": [
    {
     "name": "stdout",
     "output_type": "stream",
     "text": [
      "shreya\n",
      "First 3 characters shr\n",
      "Last 3 characters eya\n"
     ]
    }
   ],
   "source": [
    "s = input()\n",
    "print(\"First 3 characters\",s[:3])\n",
    "print(\"Last 3 characters\",s[-3:])"
   ]
  },
  {
   "cell_type": "code",
   "execution_count": null,
   "metadata": {
    "colab": {
     "base_uri": "https://localhost:8080/"
    },
    "id": "OA0poQFKzE-k",
    "outputId": "3e130965-28e6-4819-d462-7d3a9e51a3b2"
   },
   "outputs": [
    {
     "name": "stdout",
     "output_type": "stream",
     "text": [
      "23 45\n",
      "add 68\n",
      "subt -22\n",
      "mul 1035\n",
      "div 0\n"
     ]
    }
   ],
   "source": [
    "x,y =input().split( )\n",
    "print(\"add\",int(x)+int(y))\n",
    "print(\"subt\",int(x)-int(y))\n",
    "print(\"mul\",int(x)*int(y))\n",
    "print(\"div\",int(x)//int(y))"
   ]
  },
  {
   "cell_type": "code",
   "execution_count": null,
   "metadata": {
    "colab": {
     "base_uri": "https://localhost:8080/"
    },
    "id": "fggXBC3czLWF",
    "outputId": "06331248-ebe4-4e73-d035-394fbc98cf95"
   },
   "outputs": [
    {
     "name": "stdout",
     "output_type": "stream",
     "text": [
      "5\n",
      "area: 78.5\n"
     ]
    }
   ],
   "source": [
    "radius = int(input())\n",
    "pi = 3.14\n",
    "area = pi * radius * radius\n",
    "print(\"area:\",area)"
   ]
  },
  {
   "cell_type": "code",
   "execution_count": null,
   "metadata": {
    "colab": {
     "base_uri": "https://localhost:8080/"
    },
    "id": "hbxJklOZzRZ7",
    "outputId": "ce1a054f-ad15-4a08-b2e3-64e44202ce49"
   },
   "outputs": [
    {
     "name": "stdout",
     "output_type": "stream",
     "text": [
      "5\n",
      "120\n"
     ]
    }
   ],
   "source": [
    "#Write a program to sort a list of strings based on the length of the strings\n",
    "num = int(input())\n",
    "fact = 1\n",
    "for i in range(1,num+1):\n",
    "    fact = fact * i\n",
    "print(fact)"
   ]
  },
  {
   "cell_type": "code",
   "execution_count": null,
   "metadata": {
    "colab": {
     "base_uri": "https://localhost:8080/"
    },
    "id": "WRL-fRnBzVIO",
    "outputId": "4dd4e726-c57b-44c0-a9a6-30d7d17d79f6"
   },
   "outputs": [
    {
     "name": "stdout",
     "output_type": "stream",
     "text": [
      "2 3 4\n",
      "-23\n"
     ]
    }
   ],
   "source": [
    "a,b,c = map(int,input().split())\n",
    "formula = (b**2)-(4*a*c)\n",
    "print(formula)"
   ]
  },
  {
   "cell_type": "code",
   "execution_count": null,
   "metadata": {
    "colab": {
     "base_uri": "https://localhost:8080/"
    },
    "id": "kb970HJYzeIa",
    "outputId": "6f77f46e-e8ca-460e-e739-67af84b24c96"
   },
   "outputs": [
    {
     "name": "stdout",
     "output_type": "stream",
     "text": [
      "[47, 17, 80, 16, 39]\n"
     ]
    }
   ],
   "source": [
    "import random\n",
    "list = []\n",
    "for i in range(5):\n",
    "    list.append(random.randint(1,100))\n",
    "print(list)"
   ]
  },
  {
   "cell_type": "code",
   "execution_count": null,
   "metadata": {
    "colab": {
     "base_uri": "https://localhost:8080/"
    },
    "id": "8NVnF68wzgE8",
    "outputId": "74b8914a-bb70-4e58-fb2e-e297cb490803"
   },
   "outputs": [
    {
     "name": "stdout",
     "output_type": "stream",
     "text": [
      "[4]\n"
     ]
    }
   ],
   "source": [
    "import random\n",
    "list = []\n",
    "for i in range(1):\n",
    "    list.append(random.randint(1,6))\n",
    "print(list)"
   ]
  },
  {
   "cell_type": "code",
   "execution_count": null,
   "metadata": {
    "colab": {
     "base_uri": "https://localhost:8080/"
    },
    "id": "xc2Th1EEzmzG",
    "outputId": "1fdf49fa-7eb9-43d6-9fc5-f00f876ec65e"
   },
   "outputs": [
    {
     "name": "stdout",
     "output_type": "stream",
     "text": [
      "Mean: 5.5\n",
      "Standard deviation: 2.8722813232690143\n"
     ]
    }
   ],
   "source": [
    "import numpy as np\n",
    "arr = np.array([1,2,3,4,5,6,7,8,9,10])\n",
    "print(\"Mean:\",np.mean(arr))\n",
    "print(\"Standard deviation:\",np.std(arr))"
   ]
  },
  {
   "cell_type": "code",
   "execution_count": null,
   "metadata": {
    "colab": {
     "base_uri": "https://localhost:8080/"
    },
    "id": "x4yPUJJkzoZZ",
    "outputId": "59b2aaa8-0c18-4a3a-a87a-01c004b12b6f"
   },
   "outputs": [
    {
     "name": "stdout",
     "output_type": "stream",
     "text": [
      "[ 7 16 27 40 55 72]\n"
     ]
    }
   ],
   "source": [
    "import numpy as np\n",
    "arr1 = np.array([1,2,3,4,5,6])\n",
    "arr2 = np.array([7,8,9,10,11,12])\n",
    "print(arr1*arr2)"
   ]
  },
  {
   "cell_type": "code",
   "execution_count": null,
   "metadata": {
    "colab": {
     "base_uri": "https://localhost:8080/"
    },
    "id": "JzcB0cD7zsuN",
    "outputId": "c7a8f29c-e8e8-4e14-d274-d63fbf1d30ce"
   },
   "outputs": [
    {
     "name": "stdout",
     "output_type": "stream",
     "text": [
      "[[ 1  2  3  4]\n",
      " [ 5  6  7  8]\n",
      " [ 9 10 11 12]]\n"
     ]
    }
   ],
   "source": [
    "import numpy as np\n",
    "arr = np.array([1,2,3,4,5,6,7,8,9,10,11,12])\n",
    "print(arr.reshape(3,4))"
   ]
  },
  {
   "cell_type": "code",
   "execution_count": null,
   "metadata": {
    "colab": {
     "base_uri": "https://localhost:8080/"
    },
    "id": "2LZFFFEBzx7z",
    "outputId": "7c89bd8a-19c4-4c2d-8ce4-619c7234a916"
   },
   "outputs": [
    {
     "name": "stdout",
     "output_type": "stream",
     "text": [
      "[1 2 3 4 5 6]\n"
     ]
    }
   ],
   "source": [
    "import numpy as np\n",
    "arr = np.array([[1,2,3],[4,5,6]])\n",
    "print(arr.flatten())"
   ]
  },
  {
   "cell_type": "code",
   "execution_count": null,
   "metadata": {
    "colab": {
     "base_uri": "https://localhost:8080/"
    },
    "id": "szczyFX7z1r5",
    "outputId": "b4c96502-42df-4462-eb44-9b6f7db8aed2"
   },
   "outputs": [
    {
     "name": "stdout",
     "output_type": "stream",
     "text": [
      "Sum of arrays: [ 6  8 10 12]\n",
      "Diff of arrays: [-4 -4 -4 -4]\n"
     ]
    }
   ],
   "source": [
    "import numpy as np\n",
    "arr1 = np.array([1, 2, 3, 4])\n",
    "arr2 = np.array([5, 6, 7, 8])\n",
    "\n",
    "sum_arr = arr1 + arr2\n",
    "print(\"Sum of arrays:\", sum_arr)\n",
    "\n",
    "diff_arr = arr1 - arr2\n",
    "print(\"Diff of arrays:\", diff_arr)"
   ]
  },
  {
   "cell_type": "code",
   "execution_count": null,
   "metadata": {
    "colab": {
     "base_uri": "https://localhost:8080/"
    },
    "id": "Fgnsx_sRz70W",
    "outputId": "b5128319-edb1-403e-b101-e5b54da367a2"
   },
   "outputs": [
    {
     "name": "stdout",
     "output_type": "stream",
     "text": [
      "Prod of arrays: [ 5 12 21 32]\n"
     ]
    }
   ],
   "source": [
    "import numpy as np\n",
    "arr1 = np.array([1, 2, 3, 4])\n",
    "arr2 = np.array([5, 6, 7, 8])\n",
    "\n",
    "prod_arr = arr1 * arr2\n",
    "print(\"Prod of arrays:\", prod_arr)"
   ]
  },
  {
   "cell_type": "code",
   "execution_count": null,
   "metadata": {
    "colab": {
     "base_uri": "https://localhost:8080/"
    },
    "id": "3knHDgTx0Ti9",
    "outputId": "200a6ff8-5aaa-41d0-824a-91df7f6dad58"
   },
   "outputs": [
    {
     "name": "stdout",
     "output_type": "stream",
     "text": [
      "Original array:\n",
      " [[ 5  6 66 56 26]\n",
      " [90 89 54 21 50]\n",
      " [37 80 27 65 15]\n",
      " [99 83 13  3 73]\n",
      " [92 63 90  2 32]]\n",
      "\n",
      "Diagonal elements: [ 5 89 27  3 32]\n"
     ]
    }
   ],
   "source": [
    "\n",
    "\n",
    "import numpy as np\n",
    "\n",
    "# Create a 5x5 numpy array with random integers between 1 and 100\n",
    "array = np.random.randint(1, 101, size=(5, 5))\n",
    "print(\"Original array:\\n\", array)\n",
    "\n",
    "diagonal_elements = np.diag(array)\n",
    "print(\"\\nDiagonal elements:\", diagonal_elements)\n"
   ]
  },
  {
   "cell_type": "code",
   "execution_count": null,
   "metadata": {
    "colab": {
     "base_uri": "https://localhost:8080/"
    },
    "id": "bDPDZmzi0h5K",
    "outputId": "672a6436-f025-4fe0-8dea-b3bfe28a046a"
   },
   "outputs": [
    {
     "name": "stdout",
     "output_type": "stream",
     "text": [
      "[ 1 -1  3 -1  5 -1  7 -1  9 -1]\n"
     ]
    }
   ],
   "source": [
    "\n",
    "arr = np.array([1, 2, 3, 4, 5, 6, 7, 8, 9, 10])\n",
    "\n",
    "arr[arr % 2 == 0] = -1\n",
    "\n",
    "# Print the modified array\n",
    "print(arr)\n"
   ]
  },
  {
   "cell_type": "code",
   "execution_count": null,
   "metadata": {
    "colab": {
     "base_uri": "https://localhost:8080/"
    },
    "id": "FDF4_wNi0uW_",
    "outputId": "eb05a85b-974c-4307-8831-2ea66123ff6d"
   },
   "outputs": [
    {
     "name": "stdout",
     "output_type": "stream",
     "text": [
      "{'a': 30, 'b': 94, 'c': 97, 'd': 44, 'e': 26, 'f': 80, 'g': 40, 'h': 18, 'i': 6, 'j': 20}\n"
     ]
    }
   ],
   "source": [
    "# Write a program to create a dictionary where the keys are the first 10 letters of the\n",
    "# alphabet and the values are random integers between 1 and 100.\n",
    "\n",
    "import random\n",
    "\n",
    "my_dict = {}\n",
    "\n",
    "# Iterate over the first 10 letters of the alphabet\n",
    "for letter in 'abcdefghij':\n",
    "  random_number = random.randint(1, 100)\n",
    "  my_dict[letter] = random_number\n",
    "\n",
    "# Print the dictionary\n",
    "print(my_dict)\n"
   ]
  },
  {
   "cell_type": "code",
   "execution_count": null,
   "metadata": {
    "colab": {
     "base_uri": "https://localhost:8080/"
    },
    "id": "QAC03CBJ1D61",
    "outputId": "239253b5-0018-4ed5-db01-de5943cf6671"
   },
   "outputs": [
    {
     "name": "stdout",
     "output_type": "stream",
     "text": [
      "[(1, 1), (2, 4), (3, 9), (4, 16), (5, 25), (6, 36), (7, 49), (8, 64), (9, 81), (10, 100)]\n"
     ]
    }
   ],
   "source": [
    "\n",
    "result = [(x, x**2) for x in range(1, 11)]\n",
    "print(result)\n"
   ]
  },
  {
   "cell_type": "code",
   "execution_count": null,
   "metadata": {
    "colab": {
     "base_uri": "https://localhost:8080/"
    },
    "id": "V8tU3vXD1XjR",
    "outputId": "01c9c256-0bc6-4cf1-cd76-281d46165085"
   },
   "outputs": [
    {
     "name": "stdout",
     "output_type": "stream",
     "text": [
      "hiii\n",
      "hiieee\n",
      "{'h', 'i'}\n"
     ]
    }
   ],
   "source": [
    "#Write a program to find the common characters between two strings.\n",
    "s1 = input()\n",
    "s2 = input()\n",
    "s1 = set(s1)\n",
    "s2 = set(s2)\n",
    "print(s1.intersection(s2))"
   ]
  },
  {
   "cell_type": "code",
   "execution_count": null,
   "metadata": {
    "colab": {
     "base_uri": "https://localhost:8080/"
    },
    "id": "V6j2US9r1wey",
    "outputId": "450bfb91-e92e-4c1a-8df2-8fe50b0e7e9a"
   },
   "outputs": [
    {
     "name": "stdout",
     "output_type": "stream",
     "text": [
      "hi hello how r u\n",
      "['r', 'u', 'hi', 'how', 'hello']\n"
     ]
    }
   ],
   "source": [
    "#Write a program to sort a list of strings based on the length of the strings.\n",
    "list = input().split()\n",
    "list.sort(key=len)\n",
    "print(list)"
   ]
  }
 ],
 "metadata": {
  "colab": {
   "provenance": []
  },
  "kernelspec": {
   "display_name": "Python 3 (ipykernel)",
   "language": "python",
   "name": "python3"
  },
  "language_info": {
   "codemirror_mode": {
    "name": "ipython",
    "version": 3
   },
   "file_extension": ".py",
   "mimetype": "text/x-python",
   "name": "python",
   "nbconvert_exporter": "python",
   "pygments_lexer": "ipython3",
   "version": "3.9.6"
  }
 },
 "nbformat": 4,
 "nbformat_minor": 4
}
