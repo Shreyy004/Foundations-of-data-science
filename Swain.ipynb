{
 "cells": [
  {
   "cell_type": "markdown",
   "id": "aaa579ba-9514-4da8-9f4e-e6ddf5413e1e",
   "metadata": {},
   "source": [
    "# Case study\n",
    "''' Assessing Models¶ In data science, a \"model\" is a set of assumptions about data ( eg heights of people as a NORMAL distribution). Often, models include assumptions about chance processes used to generate data. In later sections we will use the methods developed here as the building blocks of a general framework for testing hypotheses.'''\n",
    "\n",
    "\"\"\" men aged 21 or older were allowed to serve on juries in Talladega County. In the county, 26% of the eligible jurors were black, but there were only 8 black men among the 100 selected for the jury panel in Swain's trial. No black man was selected for the trial jury.\n",
    "\n",
    "In 1965, the Supreme Court of the United States denied Swain's appeal. In its ruling, the Court wrote \"... the overall percentage disparity has been small and reflects no studied attempt to include or exclude a specified number of Negroes.\" Jury panels are supposed to be selected at random from the eligible population. Because 26% of the eligible population was black, 8 black men on a panel of 100 might seem low.\"\"\"\n",
    "\n",
    "\"\"\"A Model¶ But one view of the data – a model, in other words – is that the panel was selected at random and ended up with a small number of black men just due to chance. This model is consistent with what the Supreme Court wrote in its ruling. The model specifies the details of a chance process. It says the data are like a random sample from a population in which 26% of the people are black. \"\"\"\n",
    "\n",
    "\"\"\"We can simulate data based on the model. That is, we can simulate drawing at random from a population of whom 26% are black. Our simulation will show what a panel would look like if it were selected at random. We can then compare the results of the simulation with the composition of Robert Swain's panel. If the results of our simulation are not consistent with the composition of Swain's panel, that will be evidence against the model of random selection.\n",
    "\n",
    "\"\"\"\n",
    "\n",
    "\"\"\" The Statistic¶ First, we have to choose a statistic to simulate. The statistic has to be able to help us decide between the model and alternative views about the data. The model says the panel was drawn at random. The alternative viewpoint, suggested by Robert Swain's appeal, is that the panel was not drawn at random because it contained too few black men. A natural statistic, then, is the number of black men in our simulated sample of 100 men representing the panel. Small values of the statistic will favor the alternative viewpoint\"\"\"\n",
    "\n",
    "\"\"\" Generating One Value of the Statistic¶ First figure out how to simulate one value of the statistic. For this, sample 100 times at random from the population of eligible jurors and count the number of black men .\n",
    "\n",
    "---One way is to set up a table representing the eligible population and use sample. ---a quicker way... use a datascience function tailored for sampling at random from categorical distributions. \"\"\"\n",
    "\n",
    "\"\"\" The sample_proportions function in the datascience library takes two arguments: ---the sample size ---the distribution of the categories in the population, as a list or array of proportions that add up to 1 \"\"\"\n",
    "\n",
    "\"\"\" It returns an array containing the distribution of the categories in a random sample of the given size taken from the population. That's an array consisting of the sample proportions in all the different categories. The panel is selected at random from a population of men among whom 26% were black and 74% were not. Thus the distribution of the two categories can be represented as the list [0.26, 0.74] have assigned to the name eligible_population .\n",
    "\n",
    "Now sample at random 100 times from this distribution, and see what proportions of the two categories we get in our sample.\"\"\""
   ]
  },
  {
   "cell_type": "code",
   "execution_count": 1,
   "id": "42b801da-126a-4711-8b08-bd4a2a65e0b5",
   "metadata": {},
   "outputs": [],
   "source": [
    "eligible_population = [0.26, 0.74]\n"
   ]
  },
  {
   "cell_type": "code",
   "execution_count": 2,
   "id": "f5845673-ad28-4fe0-8ee3-462f7dd2bb31",
   "metadata": {},
   "outputs": [],
   "source": [
    "import numpy as np\n"
   ]
  },
  {
   "cell_type": "code",
   "execution_count": 3,
   "id": "ce05ddac-8a2c-4759-8f04-9d21a3f5da0c",
   "metadata": {},
   "outputs": [],
   "source": [
    "import numpy.random as npr\n"
   ]
  },
  {
   "cell_type": "code",
   "execution_count": 4,
   "id": "cd66a0dc-1fa2-4fc4-82e2-83eb1076011d",
   "metadata": {
    "scrolled": true
   },
   "outputs": [
    {
     "data": {
      "text/plain": [
       "18"
      ]
     },
     "execution_count": 4,
     "metadata": {},
     "output_type": "execute_result"
    }
   ],
   "source": [
    " npr.binomial(100, 0.26)\n",
    "# how many out of 100 jurors were black in this simulated selection.\n"
   ]
  },
  {
   "cell_type": "code",
   "execution_count": 5,
   "id": "c7ee361f-4704-4720-bc59-0f79ff23b605",
   "metadata": {},
   "outputs": [],
   "source": [
    "simulations = 1000\n",
    "for i in np.arange(simulations):\n",
    "    count_pop_black = npr.binomial(100, 0.26, simulations)"
   ]
  },
  {
   "cell_type": "code",
   "execution_count": 6,
   "id": "c2a67e30-e66b-495b-87c8-2d3202089f6d",
   "metadata": {},
   "outputs": [
    {
     "data": {
      "text/plain": [
       "array([26, 28, 30, 30])"
      ]
     },
     "execution_count": 6,
     "metadata": {},
     "output_type": "execute_result"
    }
   ],
   "source": [
    "count_pop_black[1:5]\n"
   ]
  },
  {
   "cell_type": "code",
   "execution_count": 7,
   "id": "6aba5fea-cf78-420d-a650-e3f2a2082b9c",
   "metadata": {},
   "outputs": [],
   "source": [
    "%matplotlib inline\n"
   ]
  },
  {
   "cell_type": "code",
   "execution_count": 8,
   "id": "cf7b22aa-e969-4e0c-90cc-0fd6d9822c4e",
   "metadata": {},
   "outputs": [],
   "source": [
    "import pandas as pd\n"
   ]
  },
  {
   "cell_type": "code",
   "execution_count": 9,
   "id": "f6d496a2-8bd0-40d0-9cf7-2c06aa167784",
   "metadata": {},
   "outputs": [
    {
     "data": {
      "text/html": [
       "<div>\n",
       "<style scoped>\n",
       "    .dataframe tbody tr th:only-of-type {\n",
       "        vertical-align: middle;\n",
       "    }\n",
       "\n",
       "    .dataframe tbody tr th {\n",
       "        vertical-align: top;\n",
       "    }\n",
       "\n",
       "    .dataframe thead th {\n",
       "        text-align: right;\n",
       "    }\n",
       "</style>\n",
       "<table border=\"1\" class=\"dataframe\">\n",
       "  <thead>\n",
       "    <tr style=\"text-align: right;\">\n",
       "      <th></th>\n",
       "      <th>0</th>\n",
       "    </tr>\n",
       "  </thead>\n",
       "  <tbody>\n",
       "    <tr>\n",
       "      <th>0</th>\n",
       "      <td>24</td>\n",
       "    </tr>\n",
       "    <tr>\n",
       "      <th>1</th>\n",
       "      <td>26</td>\n",
       "    </tr>\n",
       "    <tr>\n",
       "      <th>2</th>\n",
       "      <td>28</td>\n",
       "    </tr>\n",
       "  </tbody>\n",
       "</table>\n",
       "</div>"
      ],
      "text/plain": [
       "    0\n",
       "0  24\n",
       "1  26\n",
       "2  28"
      ]
     },
     "execution_count": 9,
     "metadata": {},
     "output_type": "execute_result"
    }
   ],
   "source": [
    "panel_df = pd.DataFrame(count_pop_black)\n",
    "panel_df.head(3)"
   ]
  },
  {
   "cell_type": "code",
   "execution_count": 10,
   "id": "9d1c3742-2de9-4ead-80f1-46619382798b",
   "metadata": {},
   "outputs": [
    {
     "data": {
      "text/plain": [
       "1000"
      ]
     },
     "execution_count": 10,
     "metadata": {},
     "output_type": "execute_result"
    }
   ],
   "source": [
    "panel_df.size\n"
   ]
  },
  {
   "cell_type": "code",
   "execution_count": 11,
   "id": "bc1ed4cc-339e-491f-8df9-7f0a93747b63",
   "metadata": {},
   "outputs": [],
   "source": [
    "import matplotlib.pyplot as plt\n"
   ]
  },
  {
   "cell_type": "code",
   "execution_count": 12,
   "id": "5be99a37-5df4-4b3c-9073-e69603fe2b6e",
   "metadata": {},
   "outputs": [],
   "source": [
    "%matplotlib inline\n"
   ]
  },
  {
   "cell_type": "code",
   "execution_count": 13,
   "id": "a8609bdf-7348-4c80-8552-8f6cbdc66abe",
   "metadata": {},
   "outputs": [
    {
     "data": {
      "text/plain": [
       "<matplotlib.collections.PathCollection at 0x16e47560a60>"
      ]
     },
     "execution_count": 13,
     "metadata": {},
     "output_type": "execute_result"
    },
    {
     "data": {
      "image/png": "[encoded data removed]",
      "text/plain": [
       "<Figure size 640x480 with 1 Axes>"
      ]
     },
     "metadata": {},
     "output_type": "display_data"
    }
   ],
   "source": [
    "panel_df.hist()\n",
    "plt.title('Statistic');\n",
    "plt.xlabel('Count in a Random Sample %',fontsize=15)\n",
    "plt.ylabel('Unit',fontsize=15);\n",
    "plt.scatter(8, 0, color='red', s=30)\n"
   ]
  },
  {
   "cell_type": "markdown",
   "id": "531c0a49-aef6-4e4f-931a-444492ed0838",
   "metadata": {},
   "source": [
    "# inf\n",
    "\"\"\" The histogram tells us what the model of random selection predicts about our statistic, the count of black men in the sample. To generate each simulated count, we drew at 100 times at random from a population in which 26% were black. So, as you would expect, most of the simulated counts are around\n",
    "\n",
    "They are not exactly 26 – there is some variation. The counts range between about 10 and 45.\"\"\"\n",
    "\"\"\"Comparing the Prediction and the Data¶ Though the simulated counts are quite varied, very few of them came out to be eight or less. The value eight is far out in the left hand tail of the histogram. It's the red dot on the horizontal axis of the histogram. \"\"\"\n",
    "\n",
    "\"\"\"Thus the simulation shows that if we select a panel of 100 jurors at random from the eligible population, we are very unlikely to get counts of black men as low as the eight that were in Swain's jury panel. This is evidence that the model of random selection of the jurors in the panel is not consistent with the data from the panel. When the data and a model are inconsistent, the model is hard to justify. After all, the data are real. The model is just a set of assumptions. When assumptions are at odds with reality, we have to question those assumptions. While it is possible that a panel like Robert Swain's could have been generated by chance, our simulation demonstrates that it is very unlikely. Thus our assessment is that the model of random draws is not supported by the evidence. Swain's jury panel does not look like the result of random sampling from the population of eligible jurors. \"\"\""
   ]
  },
  {
   "cell_type": "code",
   "execution_count": 1,
   "id": "eb635948-8faf-453a-8bc5-20bdc8899b85",
   "metadata": {},
   "outputs": [
    {
     "name": "stdout",
     "output_type": "stream",
     "text": [
      "P-value: 4.734794997889318e-06\n"
     ]
    }
   ],
   "source": [
    "from scipy.stats import binom\n",
    "\n",
    "# Parameters for the binomial distribution\n",
    "n = 100       # number of trials (jurors)\n",
    "p = 0.26      # probability of success (selecting a black juror)\n",
    "\n",
    "# Observed number of black jurors\n",
    "observed_black_jurors = 8\n",
    "\n",
    "# Calculate the P-value (probability of 8 or fewer black jurors)\n",
    "p_value = binom.cdf(observed_black_jurors, n, p)\n",
    "\n",
    "print(f\"P-value: {p_value}\")\n"
   ]
  },
  {
   "cell_type": "code",
   "execution_count": null,
   "id": "208663fe-cb80-477a-b5d4-8edeebdfea93",
   "metadata": {},
   "outputs": [],
   "source": []
  }
 ],
 "metadata": {
  "kernelspec": {
   "display_name": "Python 3 (ipykernel)",
   "language": "python",
   "name": "python3"
  },
  "language_info": {
   "codemirror_mode": {
    "name": "ipython",
    "version": 3
   },
   "file_extension": ".py",
   "mimetype": "text/x-python",
   "name": "python",
   "nbconvert_exporter": "python",
   "pygments_lexer": "ipython3",
   "version": "3.9.6"
  }
 },
 "nbformat": 4,
 "nbformat_minor": 5
}
