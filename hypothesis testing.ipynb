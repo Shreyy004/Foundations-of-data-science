{
 "cells": [
  {
   "cell_type": "code",
   "execution_count": 2,
   "id": "78d30c60-dffd-4580-8dd2-ef1e3e85d609",
   "metadata": {},
   "outputs": [],
   "source": [
    "import numpy as np\n",
    "import scipy.stats as st\n"
   ]
  },
  {
   "cell_type": "code",
   "execution_count": 3,
   "id": "7e59e084-1706-4644-bbd7-23936f0cff8c",
   "metadata": {},
   "outputs": [],
   "source": [
    "n=50\n",
    "sample_mean=305\n",
    "population_mean=300\n",
    "sigma=30\n",
    "alpha=0.05"
   ]
  },
  {
   "cell_type": "code",
   "execution_count": 4,
   "id": "dbb2d545-cdf2-4002-a41f-2d5e898f51ac",
   "metadata": {},
   "outputs": [
    {
     "data": {
      "text/plain": [
       "-1.6448536269514729"
      ]
     },
     "execution_count": 4,
     "metadata": {},
     "output_type": "execute_result"
    }
   ],
   "source": [
    "z_critical=(st.norm.ppf(alpha))\n",
    "z_critical"
   ]
  },
  {
   "cell_type": "code",
   "execution_count": 5,
   "id": "3c374f0d-ae04-493b-b5ce-3d294f9ccc20",
   "metadata": {},
   "outputs": [
    {
     "data": {
      "text/plain": [
       "1.6448536269514729"
      ]
     },
     "execution_count": 5,
     "metadata": {},
     "output_type": "execute_result"
    }
   ],
   "source": [
    "z_critical=abs((st.norm.ppf(alpha)))\n",
    "z_critical"
   ]
  },
  {
   "cell_type": "code",
   "execution_count": 6,
   "id": "4bef4be9-da48-40bb-ad78-24cb6b0b91c8",
   "metadata": {},
   "outputs": [
    {
     "data": {
      "text/plain": [
       "1.1785113019775793"
      ]
     },
     "execution_count": 6,
     "metadata": {},
     "output_type": "execute_result"
    }
   ],
   "source": [
    "z=(sample_mean-population_mean)/(sigma/np.sqrt(n))\n",
    "z"
   ]
  },
  {
   "cell_type": "code",
   "execution_count": 7,
   "id": "53010d07-582b-4d38-b74c-579e49c1f0d6",
   "metadata": {},
   "outputs": [
    {
     "name": "stdout",
     "output_type": "stream",
     "text": [
      "Null hypothesis cannot be rejected\n"
     ]
    }
   ],
   "source": [
    "if (z<z_critical):\n",
    "    print(\"Null hypothesis cannot be rejected\")\n",
    "else:\n",
    "    print(\"reject null hypothesis\")"
   ]
  },
  {
   "cell_type": "code",
   "execution_count": 8,
   "id": "ef2ad05d-27a7-45cf-b414-d16732046c3e",
   "metadata": {},
   "outputs": [
    {
     "data": {
      "text/plain": [
       "349.35"
      ]
     },
     "execution_count": 8,
     "metadata": {},
     "output_type": "execute_result"
    }
   ],
   "source": [
    "# Critical Value in minutes=μ+(Zcritical × σ) \n",
    "# The formula for converting a Z-value to a value in the original scale \n",
    "z_critical_value = 300+(1.645*30)\n",
    "z_critical_value\n"
   ]
  },
  {
   "cell_type": "code",
   "execution_count": 9,
   "id": "2e0cd0b7-c441-4c0d-a6ff-89c3259de385",
   "metadata": {},
   "outputs": [
    {
     "data": {
      "text/plain": [
       "335.355"
      ]
     },
     "execution_count": 9,
     "metadata": {},
     "output_type": "execute_result"
    }
   ],
   "source": [
    "z_value = 300+(1.1785*30)\n",
    "z_value"
   ]
  },
  {
   "cell_type": "markdown",
   "id": "a3a21d8b-5d72-4ba2-a468-f41e17c4df90",
   "metadata": {},
   "source": [
    "# p value method\n"
   ]
  },
  {
   "cell_type": "code",
   "execution_count": 10,
   "id": "9ef5cf16-c0dc-4758-9b61-c79c0a77acde",
   "metadata": {},
   "outputs": [
    {
     "data": {
      "text/plain": [
       "1.1785113019775793"
      ]
     },
     "execution_count": 10,
     "metadata": {},
     "output_type": "execute_result"
    }
   ],
   "source": [
    "z = (sample_mean-population_mean)/(sigma/np.sqrt(n))\n",
    "z"
   ]
  },
  {
   "cell_type": "code",
   "execution_count": 11,
   "id": "3243d7f5-b1dc-4584-8ccc-86cefe6b33b9",
   "metadata": {},
   "outputs": [
    {
     "data": {
      "text/plain": [
       "0.11929641465821783"
      ]
     },
     "execution_count": 11,
     "metadata": {},
     "output_type": "execute_result"
    }
   ],
   "source": [
    "p_val = (1 - st.norm.cdf(abs(z))) \n",
    "p_val"
   ]
  },
  {
   "cell_type": "code",
   "execution_count": 12,
   "id": "5e377fa2-b730-4be1-8d0d-7ae20e15998b",
   "metadata": {},
   "outputs": [
    {
     "name": "stdout",
     "output_type": "stream",
     "text": [
      "Null hypothesis cannot be rejected\n"
     ]
    }
   ],
   "source": [
    "if (p_val > alpha):\n",
    "    print(\"Null hypothesis cannot be rejected\")\n",
    "else:\n",
    "    print(\"Reject null hypothesis\")"
   ]
  },
  {
   "cell_type": "markdown",
   "id": "e68a11d5-ccfa-4e8f-9779-56a575691629",
   "metadata": {},
   "source": [
    "# Row1 : Critical Value Method\n",
    "# Blood glucose levels for obese patients have a mean of 100 with a standard deviation of 15. A researcher thinks that a diet high in raw cornstarch will have a positive or negative effect on blood glucose levels. A sample of 30 patients who have tried the raw cornstarch diet have a mean glucose level of 140. Test the hypothesis that the raw cornstarch had an effect.alpha = 0.05 P-Value Method"
   ]
  },
  {
   "cell_type": "code",
   "execution_count": 13,
   "id": "87c47eb8-154c-4631-91f6-98c375c34892",
   "metadata": {},
   "outputs": [],
   "source": [
    "#H0 : μ = 8 and Ha : μ != 8 (Two tailed test)\n",
    "n=30\n",
    "sample_mean=140\n",
    "alpha=0.05\n",
    "population_mean=100\n",
    "sigma=15"
   ]
  },
  {
   "cell_type": "code",
   "execution_count": 14,
   "id": "7e9238cb-623d-413c-8f8d-f1d449dc5f88",
   "metadata": {},
   "outputs": [
    {
     "data": {
      "text/plain": [
       "-1.6448536269514729"
      ]
     },
     "execution_count": 14,
     "metadata": {},
     "output_type": "execute_result"
    }
   ],
   "source": [
    "st.norm.ppf(alpha)\n"
   ]
  },
  {
   "cell_type": "code",
   "execution_count": 15,
   "id": "9b4307be-48e6-4339-a970-b0805b105e1e",
   "metadata": {},
   "outputs": [
    {
     "data": {
      "text/plain": [
       "-1.9599639845400545"
      ]
     },
     "execution_count": 15,
     "metadata": {},
     "output_type": "execute_result"
    }
   ],
   "source": [
    "st.norm.ppf(alpha/2)\n"
   ]
  },
  {
   "cell_type": "code",
   "execution_count": 16,
   "id": "1d6eda7d-7420-44bb-bda5-eafbdd272c3b",
   "metadata": {},
   "outputs": [
    {
     "data": {
      "text/plain": [
       "1.6448536269514722"
      ]
     },
     "execution_count": 16,
     "metadata": {},
     "output_type": "execute_result"
    }
   ],
   "source": [
    "st.norm.ppf(0.95)\n"
   ]
  },
  {
   "cell_type": "code",
   "execution_count": 17,
   "id": "26dd6455-655f-46e1-8a96-bf8c1ce5a275",
   "metadata": {},
   "outputs": [
    {
     "data": {
      "text/plain": [
       "1.9599639845400545"
      ]
     },
     "execution_count": 17,
     "metadata": {},
     "output_type": "execute_result"
    }
   ],
   "source": [
    "z_critical = abs(st.norm.ppf(alpha/2)) #Absolute value taken \n",
    "z_critical"
   ]
  },
  {
   "cell_type": "code",
   "execution_count": 18,
   "id": "f30eb3d5-3d2b-48a2-87a6-dd31898ab49e",
   "metadata": {},
   "outputs": [
    {
     "data": {
      "text/plain": [
       "1.959963984540054"
      ]
     },
     "execution_count": 18,
     "metadata": {},
     "output_type": "execute_result"
    }
   ],
   "source": [
    "z_critical = st.norm.ppf(1-alpha/2)\n",
    "z_critical"
   ]
  },
  {
   "cell_type": "code",
   "execution_count": 19,
   "id": "39badb83-46db-4153-9c5e-bdf18ba129f1",
   "metadata": {},
   "outputs": [
    {
     "data": {
      "text/plain": [
       "14.60593486680443"
      ]
     },
     "execution_count": 19,
     "metadata": {},
     "output_type": "execute_result"
    }
   ],
   "source": [
    "z=(sample_mean-population_mean)/(sigma/np.sqrt(n))\n",
    "z\n"
   ]
  },
  {
   "cell_type": "code",
   "execution_count": 20,
   "id": "8ab5c46e-96cf-4d8e-ba51-3fcd23e11869",
   "metadata": {},
   "outputs": [
    {
     "name": "stdout",
     "output_type": "stream",
     "text": [
      "Reject null hypothesis\n"
     ]
    }
   ],
   "source": [
    "if (z<z_critical):\n",
    "    print(\"Null hypothesis cannot be rejected\")\n",
    "else:\n",
    "    print(\"Reject null hypothesis\")"
   ]
  },
  {
   "cell_type": "markdown",
   "id": "823a2fe4-8e92-4c40-838c-49462c3f4e9e",
   "metadata": {},
   "source": [
    "# Row1 : 2 tailed z-Test using P-value¶\n"
   ]
  },
  {
   "cell_type": "code",
   "execution_count": 21,
   "id": "e4c858bb-de7d-47dd-9e6a-28578bce35b8",
   "metadata": {},
   "outputs": [],
   "source": [
    "#H0 : μ = 8 and Ha : μ != 8 (Two tailed test)\n",
    "n=30\n",
    "sample_mean=140\n",
    "alpha=0.05\n",
    "population_mean=100\n",
    "sigma=15"
   ]
  },
  {
   "cell_type": "code",
   "execution_count": 22,
   "id": "ee36c608-8f96-42b3-b3c1-51712530edd0",
   "metadata": {},
   "outputs": [
    {
     "data": {
      "text/plain": [
       "14.60593486680443"
      ]
     },
     "execution_count": 22,
     "metadata": {},
     "output_type": "execute_result"
    }
   ],
   "source": [
    "z=(sample_mean-population_mean)/(sigma/np.sqrt(n))\n",
    "z"
   ]
  },
  {
   "cell_type": "code",
   "execution_count": 23,
   "id": "10d73381-4034-4f3b-978e-114e05e2523c",
   "metadata": {},
   "outputs": [
    {
     "data": {
      "text/plain": [
       "0.0"
      ]
     },
     "execution_count": 23,
     "metadata": {},
     "output_type": "execute_result"
    }
   ],
   "source": [
    "pval=2*(1-st.norm.cdf(abs(z)))\n",
    "pval"
   ]
  },
  {
   "cell_type": "code",
   "execution_count": 24,
   "id": "b793bf3a-6b2f-48bc-8613-276737fd1695",
   "metadata": {},
   "outputs": [
    {
     "name": "stdout",
     "output_type": "stream",
     "text": [
      "reject the null hypothesis\n"
     ]
    }
   ],
   "source": [
    "if pval>alpha:\n",
    "    print(\"null hypothesis cannot be rejected\")\n",
    "else:\n",
    "    print(\"reject the null hypothesis\")"
   ]
  },
  {
   "cell_type": "markdown",
   "id": "93b1ecd5-8386-4151-ad9e-c00ad8977c4d",
   "metadata": {},
   "source": [
    "# Few rows of examples¶\n"
   ]
  },
  {
   "cell_type": "code",
   "execution_count": 25,
   "id": "cd37d908-5212-4878-91b8-e7247dc908ef",
   "metadata": {},
   "outputs": [
    {
     "data": {
      "text/plain": [
       "0.9749962601845973"
      ]
     },
     "execution_count": 25,
     "metadata": {},
     "output_type": "execute_result"
    }
   ],
   "source": [
    "#example\n",
    "st.norm.cdf(1.9599)"
   ]
  },
  {
   "cell_type": "code",
   "execution_count": 26,
   "id": "1dce00bd-b8b1-4b09-b2d5-805ac9ecf8d4",
   "metadata": {},
   "outputs": [
    {
     "data": {
      "text/plain": [
       "0.0250037398154027"
      ]
     },
     "execution_count": 26,
     "metadata": {},
     "output_type": "execute_result"
    }
   ],
   "source": [
    "st.norm.cdf(-1.9599)\n"
   ]
  },
  {
   "cell_type": "code",
   "execution_count": 27,
   "id": "83146d28-683c-4374-9b06-1614030331b6",
   "metadata": {},
   "outputs": [
    {
     "data": {
      "text/plain": [
       "0.0500074796308054"
      ]
     },
     "execution_count": 27,
     "metadata": {},
     "output_type": "execute_result"
    }
   ],
   "source": [
    "st.norm.cdf(-1.9599)*2 #  for 2 tailed tests\n"
   ]
  },
  {
   "cell_type": "code",
   "execution_count": 28,
   "id": "7f35058c-b882-47bc-86ee-3b233bf78252",
   "metadata": {},
   "outputs": [
    {
     "data": {
      "text/plain": [
       "0.9499925203691946"
      ]
     },
     "execution_count": 28,
     "metadata": {},
     "output_type": "execute_result"
    }
   ],
   "source": [
    "1-st.norm.cdf(-1.9599)*2 #  for 2 tailed tests\n"
   ]
  },
  {
   "cell_type": "code",
   "execution_count": 29,
   "id": "8c2dcd6f-4e80-4b9e-bce8-bfc816f30cca",
   "metadata": {},
   "outputs": [
    {
     "data": {
      "text/plain": [
       "0.5"
      ]
     },
     "execution_count": 29,
     "metadata": {},
     "output_type": "execute_result"
    }
   ],
   "source": [
    "#if z value is 0.02\n",
    "st.norm.cdf(0.0)"
   ]
  },
  {
   "cell_type": "code",
   "execution_count": 30,
   "id": "5a65c012-1748-4de6-977e-20f58fbf7f49",
   "metadata": {},
   "outputs": [
    {
     "data": {
      "text/plain": [
       "0.04999579029644097"
      ]
     },
     "execution_count": 30,
     "metadata": {},
     "output_type": "execute_result"
    }
   ],
   "source": [
    "p_val = (1 - st.norm.cdf(abs(1.96))) * 2\n",
    "p_val"
   ]
  },
  {
   "cell_type": "code",
   "execution_count": null,
   "id": "6ffc770d-dafa-4bbe-9144-8d3f5d83e755",
   "metadata": {},
   "outputs": [],
   "source": []
  },
  {
   "cell_type": "markdown",
   "id": "21f5658b-04a9-4327-9c66-9fd030a682e9",
   "metadata": {},
   "source": [
    "# Examples End here¶\n"
   ]
  },
  {
   "cell_type": "code",
   "execution_count": 31,
   "id": "351cfc88-8b62-47a9-87e2-9528279e34bb",
   "metadata": {},
   "outputs": [
    {
     "data": {
      "text/plain": [
       "0.0"
      ]
     },
     "execution_count": 31,
     "metadata": {},
     "output_type": "execute_result"
    }
   ],
   "source": [
    "p_val = (1 - st.norm.cdf(abs(z))) * 2\n",
    "p_val"
   ]
  },
  {
   "cell_type": "code",
   "execution_count": 32,
   "id": "64af4208-415a-4ae8-bfe6-952ed40f14ee",
   "metadata": {},
   "outputs": [
    {
     "name": "stdout",
     "output_type": "stream",
     "text": [
      "Reject null hypothesis\n"
     ]
    }
   ],
   "source": [
    "if (p_val > alpha):\n",
    "    print(\"Null hypothesis cannot be rejected\")\n",
    "else:\n",
    "    print(\"Reject null hypothesis\")"
   ]
  },
  {
   "cell_type": "markdown",
   "id": "0dc54280-dfbf-44d7-9935-c66fe79dce9d",
   "metadata": {},
   "source": [
    "# Section 1 : z-Test¶\n"
   ]
  },
  {
   "cell_type": "markdown",
   "id": "d1af1fdf-b481-4c08-8a18-1519ec399f08",
   "metadata": {},
   "source": [
    "# Example 1.1 : Ages of Medical doctors¶\n"
   ]
  },
  {
   "cell_type": "markdown",
   "id": "bdfe499e-5642-4038-b354-554a7f362c6d",
   "metadata": {},
   "source": [
    "# A researcher believes that the mean age of medical doctors in a large hospital system is older than the average age of doctors in the United States, which is 46. Assume the population standard deviation is 4.2 years. A random sample of 30 doctors from the system is selected, and the mean age of the sample is 48.6. Test the claim at α = 0.05."
   ]
  },
  {
   "cell_type": "code",
   "execution_count": 48,
   "id": "7ed93f69-fa01-4941-9911-61e806e754ea",
   "metadata": {},
   "outputs": [],
   "source": [
    "#H0 : μ = 46, Ha :  μ > 46\n",
    "n=30\n",
    "sample_mean=48.6\n",
    "alpha=0.05\n",
    "population_mean=46\n",
    "sigma=4.2"
   ]
  },
  {
   "cell_type": "code",
   "execution_count": 49,
   "id": "05cbc830-cb59-4205-8a40-bfab00665a1b",
   "metadata": {},
   "outputs": [
    {
     "data": {
      "text/plain": [
       "<bound method rv_continuous.ppf of <scipy.stats._continuous_distns.norm_gen object at 0x0000024BB1F296D0>>"
      ]
     },
     "execution_count": 49,
     "metadata": {},
     "output_type": "execute_result"
    }
   ],
   "source": [
    "st.norm.ppf\n"
   ]
  },
  {
   "cell_type": "code",
   "execution_count": 50,
   "id": "8a039029-90a3-4681-abd1-73fc23489fd1",
   "metadata": {},
   "outputs": [
    {
     "data": {
      "text/plain": [
       "-1.6448536269514729"
      ]
     },
     "execution_count": 50,
     "metadata": {},
     "output_type": "execute_result"
    }
   ],
   "source": [
    "st.norm.ppf(alpha)\n"
   ]
  },
  {
   "cell_type": "code",
   "execution_count": 51,
   "id": "9e2133a1-431e-4f5e-b034-2102b06eb459",
   "metadata": {},
   "outputs": [
    {
     "data": {
      "text/plain": [
       "1.6448536269514722"
      ]
     },
     "execution_count": 51,
     "metadata": {},
     "output_type": "execute_result"
    }
   ],
   "source": [
    "st.norm.ppf(.95)\n"
   ]
  },
  {
   "cell_type": "code",
   "execution_count": 52,
   "id": "603112ac-db1e-495f-89da-41a8f1d58d26",
   "metadata": {},
   "outputs": [
    {
     "data": {
      "text/plain": [
       "0.9500000003144118"
      ]
     },
     "execution_count": 52,
     "metadata": {},
     "output_type": "execute_result"
    }
   ],
   "source": [
    "st.norm.cdf(1.64485363)\n"
   ]
  },
  {
   "cell_type": "code",
   "execution_count": 53,
   "id": "c180a0c4-13e7-4e83-8e16-397c53cfdffc",
   "metadata": {},
   "outputs": [
    {
     "data": {
      "text/plain": [
       "-1.6448536269514729"
      ]
     },
     "execution_count": 53,
     "metadata": {},
     "output_type": "execute_result"
    }
   ],
   "source": [
    "z_critical = (st.norm.ppf(alpha)) #Absolute value taken as it is a right-tailed test and the original value will be negative\n",
    "z_critical"
   ]
  },
  {
   "cell_type": "code",
   "execution_count": 39,
   "id": "ed409070-51ec-423a-8302-2281f71a2d94",
   "metadata": {},
   "outputs": [
    {
     "data": {
      "text/plain": [
       "1.6448536269514729"
      ]
     },
     "execution_count": 39,
     "metadata": {},
     "output_type": "execute_result"
    }
   ],
   "source": [
    "# z_critical = abs(st.norm.ppf(alpha)) #Absolute value taken as the it's a right-tailed test and the original value will be negative\n",
    "# z_critical\n"
   ]
  },
  {
   "cell_type": "code",
   "execution_count": 54,
   "id": "682466e2-a04f-4ef1-bdef-fbb94833273d",
   "metadata": {},
   "outputs": [
    {
     "data": {
      "text/plain": [
       "3.3906634512224585"
      ]
     },
     "execution_count": 54,
     "metadata": {},
     "output_type": "execute_result"
    }
   ],
   "source": [
    "z=(sample_mean-population_mean)/(sigma/np.sqrt(n))\n",
    "z"
   ]
  },
  {
   "cell_type": "code",
   "execution_count": 55,
   "id": "4f81157b-f32f-4da3-8fcf-b4a24ba69b3e",
   "metadata": {},
   "outputs": [
    {
     "name": "stdout",
     "output_type": "stream",
     "text": [
      "Reject null hypothesis\n"
     ]
    }
   ],
   "source": [
    "if (z < z_critical): #Right-tailed test\n",
    "    print(\"Null hypothesis cannot be rejected\")\n",
    "else:\n",
    "    print(\"Reject null hypothesis\")"
   ]
  },
  {
   "cell_type": "markdown",
   "id": "3fcf48ee-d2d5-43ca-a932-fec0b352be13",
   "metadata": {},
   "source": [
    "# p- Value Method\n"
   ]
  },
  {
   "cell_type": "code",
   "execution_count": 56,
   "id": "d9f5876a-d0ef-4ce3-bf16-4c25171fdedd",
   "metadata": {},
   "outputs": [
    {
     "data": {
      "text/plain": [
       "3.3906634512224585"
      ]
     },
     "execution_count": 56,
     "metadata": {},
     "output_type": "execute_result"
    }
   ],
   "source": [
    "z=(sample_mean-population_mean)/(sigma/np.sqrt(n))\n",
    "z"
   ]
  },
  {
   "cell_type": "code",
   "execution_count": 59,
   "id": "ef970e2f-9847-47e9-8237-7718d06268e9",
   "metadata": {},
   "outputs": [
    {
     "data": {
      "text/plain": [
       "0.00034861832023369566"
      ]
     },
     "execution_count": 59,
     "metadata": {},
     "output_type": "execute_result"
    }
   ],
   "source": [
    "p_val = (1-st.norm.cdf((z))) \n",
    "p_val"
   ]
  },
  {
   "cell_type": "code",
   "execution_count": 60,
   "id": "71d82fc7-9d01-4fc9-9df4-b1c174f8cddb",
   "metadata": {},
   "outputs": [
    {
     "name": "stdout",
     "output_type": "stream",
     "text": [
      "Reject null hypothesis\n"
     ]
    }
   ],
   "source": [
    "if (p_val > alpha):\n",
    "    print(\"Null hypothesis cannot be rejected\")\n",
    "else:\n",
    "    print(\"Reject null hypothesis\")"
   ]
  },
  {
   "cell_type": "markdown",
   "id": "87e3d8cf-f9a2-4dde-9586-6eb492347da9",
   "metadata": {},
   "source": [
    "# Row6 (Lower Tailed Test)\n",
    "Suppose the manufacturer claims that the mean lifetime of a light bulb is more than 10,000 hours. In a sample of 30 light bulbs, it was found that they only last 9,900 hours on average. Assume the population standard deviation is 120 hours. At .05 significance level, can we reject the claim by the manufacturer?"
   ]
  },
  {
   "cell_type": "code",
   "execution_count": 47,
   "id": "0e30c9b7-39b8-4699-9784-a854ee1f684e",
   "metadata": {},
   "outputs": [],
   "source": [
    "#H0 : μ = 10,000 and Ha : μ < 10,000 (Lower tailed test)\n",
    "n=30\n",
    "sample_mean=140\n",
    "alpha=0.05\n",
    "population_mean=100\n",
    "sigma=15"
   ]
  },
  {
   "cell_type": "code",
   "execution_count": 48,
   "id": "5f55e63c-3480-4bc8-8c88-d59451bd73de",
   "metadata": {},
   "outputs": [
    {
     "data": {
      "text/plain": [
       "14.60593486680443"
      ]
     },
     "execution_count": 48,
     "metadata": {},
     "output_type": "execute_result"
    }
   ],
   "source": [
    "z=(sample_mean-population_mean)/(sigma/np.sqrt(n))\n",
    "z"
   ]
  },
  {
   "cell_type": "code",
   "execution_count": 49,
   "id": "4493bdff-902c-40c5-ad54-eb7284879848",
   "metadata": {},
   "outputs": [
    {
     "data": {
      "text/plain": [
       "1.6448536269514729"
      ]
     },
     "execution_count": 49,
     "metadata": {},
     "output_type": "execute_result"
    }
   ],
   "source": [
    "z_critical = abs(st.norm.ppf(alpha)) #Absolute value taken \n",
    "z_critical"
   ]
  },
  {
   "cell_type": "code",
   "execution_count": 50,
   "id": "9b899441-5cdc-4fbb-b66f-25be5c0f54fd",
   "metadata": {},
   "outputs": [
    {
     "name": "stdout",
     "output_type": "stream",
     "text": [
      "Reject null hypothesis\n"
     ]
    }
   ],
   "source": [
    "if (z < z_critical): #Right-tailed test\n",
    "    print(\"Null hypothesis cannot be rejected\")\n",
    "else:\n",
    "    print(\"Reject null hypothesis\")"
   ]
  },
  {
   "cell_type": "markdown",
   "id": "e801cf7b-bb4a-4ae3-802d-7f66f982b8ae",
   "metadata": {},
   "source": [
    "# p- Value Method¶\n"
   ]
  },
  {
   "cell_type": "code",
   "execution_count": 51,
   "id": "763b23ee-0db8-40ca-bb8a-a20fa281df71",
   "metadata": {},
   "outputs": [],
   "source": [
    "#H0 : μ = 10,000 and Ha : μ < 10,000 (Lower tailed test)\n",
    "n=30\n",
    "sample_mean=140\n",
    "alpha=0.05\n",
    "population_mean=100\n",
    "sigma=15"
   ]
  },
  {
   "cell_type": "code",
   "execution_count": 52,
   "id": "02115164-ddf7-4fe9-acfe-9c58aaf23851",
   "metadata": {},
   "outputs": [
    {
     "data": {
      "text/plain": [
       "14.60593486680443"
      ]
     },
     "execution_count": 52,
     "metadata": {},
     "output_type": "execute_result"
    }
   ],
   "source": [
    "z=(sample_mean-population_mean)/(sigma/np.sqrt(n))\n",
    "z"
   ]
  },
  {
   "cell_type": "code",
   "execution_count": 53,
   "id": "e4e1d2c3-45a2-4895-85e6-aa197b592783",
   "metadata": {},
   "outputs": [
    {
     "data": {
      "text/plain": [
       "0.0"
      ]
     },
     "execution_count": 53,
     "metadata": {},
     "output_type": "execute_result"
    }
   ],
   "source": [
    "p_val = (1 - st.norm.cdf(abs(z))) \n",
    "p_val"
   ]
  },
  {
   "cell_type": "code",
   "execution_count": 54,
   "id": "6ae1affd-9c66-44d6-88fa-e3f5c8607f7a",
   "metadata": {},
   "outputs": [
    {
     "name": "stdout",
     "output_type": "stream",
     "text": [
      "Reject null hypothesis\n"
     ]
    }
   ],
   "source": [
    "if (p_val > alpha):\n",
    "    print(\"Null hypothesis cannot be rejected\")\n",
    "else:\n",
    "    print(\"Reject null hypothesis\")"
   ]
  },
  {
   "cell_type": "markdown",
   "id": "2cbfda7c-0b8f-4940-94dd-f4b76a83c377",
   "metadata": {},
   "source": [
    "# Example 2. 1 : Wind Speed\n",
    "A researcher claims that the average wind speed in a certain city is 8 miles per hour. A sample of 32 days has an average wind speed of 8.2 miles per hour. The standard deviation of the population is 0.6 mile per hour. At α = 0.05, is there enough evidence to reject the claim? Use the P-value method."
   ]
  },
  {
   "cell_type": "code",
   "execution_count": 30,
   "id": "601743ec-68e2-44a3-a9f6-f0c8c886bc65",
   "metadata": {},
   "outputs": [],
   "source": [
    "n=15\n",
    "degrees_of_freedom = n-1\n",
    "sample_mean=40.6\n",
    "alpha=0.05\n",
    "population_mean=36.7\n",
    "sigma=6"
   ]
  },
  {
   "cell_type": "code",
   "execution_count": 31,
   "id": "e30eb232-b092-45db-a497-930fc1db4134",
   "metadata": {},
   "outputs": [
    {
     "data": {
      "text/plain": [
       "2.51743917503482"
      ]
     },
     "execution_count": 31,
     "metadata": {},
     "output_type": "execute_result"
    }
   ],
   "source": [
    "z=(sample_mean-population_mean)/(sigma/np.sqrt(n))\n",
    "z"
   ]
  },
  {
   "cell_type": "code",
   "execution_count": 32,
   "id": "01d86213-79a4-4368-943f-0beae97d9473",
   "metadata": {},
   "outputs": [
    {
     "data": {
      "text/plain": [
       "0.9940894310816888"
      ]
     },
     "execution_count": 32,
     "metadata": {},
     "output_type": "execute_result"
    }
   ],
   "source": [
    "st.norm.cdf(abs(z))\n",
    "# So till 1.8856, it covers 97% of the poulation. Outside area is (1-97%) i.e., 3%\n",
    "\n"
   ]
  },
  {
   "cell_type": "code",
   "execution_count": 61,
   "id": "28e073ce-4c8c-4c70-8d91-aa9292857fa9",
   "metadata": {},
   "outputs": [
    {
     "data": {
      "text/plain": [
       "0.00591056891831121"
      ]
     },
     "execution_count": 61,
     "metadata": {},
     "output_type": "execute_result"
    }
   ],
   "source": [
    "1 - st.norm.cdf(abs(z))\n"
   ]
  },
  {
   "cell_type": "code",
   "execution_count": 62,
   "id": "816aea0d-a8ce-4014-9cee-4671f9fba723",
   "metadata": {},
   "outputs": [
    {
     "data": {
      "text/plain": [
       "0.01182113783662242"
      ]
     },
     "execution_count": 62,
     "metadata": {},
     "output_type": "execute_result"
    }
   ],
   "source": [
    "p_val = (1 - st.norm.cdf(abs(z))) * 2\n",
    "p_val"
   ]
  },
  {
   "cell_type": "code",
   "execution_count": 64,
   "id": "46acaf70-a233-4acc-a127-8fa9e12045c2",
   "metadata": {},
   "outputs": [
    {
     "name": "stdout",
     "output_type": "stream",
     "text": [
      "Reject null hypothesis\n"
     ]
    }
   ],
   "source": [
    "if (p_val > alpha):\n",
    "    print(\"Null hypothesis cannot be rejected\")\n",
    "else:\n",
    "    print(\"Reject null hypothesis\")"
   ]
  },
  {
   "cell_type": "code",
   "execution_count": 33,
   "id": "091b3d0a-4b2f-4c8a-9246-7f45a54ddc52",
   "metadata": {},
   "outputs": [
    {
     "data": {
      "text/plain": [
       "2.51743917503482"
      ]
     },
     "execution_count": 33,
     "metadata": {},
     "output_type": "execute_result"
    }
   ],
   "source": [
    "z=(sample_mean-population_mean)/(sigma/np.sqrt(n))\n",
    "z"
   ]
  },
  {
   "cell_type": "code",
   "execution_count": 34,
   "id": "20866702-030d-48e7-b3af-17e22b8cb14b",
   "metadata": {},
   "outputs": [
    {
     "data": {
      "text/plain": [
       "1.9599639845400545"
      ]
     },
     "execution_count": 34,
     "metadata": {},
     "output_type": "execute_result"
    }
   ],
   "source": [
    "z_critical=abs(st.norm.ppf(alpha/2))\n",
    "z_critical"
   ]
  },
  {
   "cell_type": "code",
   "execution_count": 35,
   "id": "d3a0316e-79e9-425c-8f49-9b52b6a08c42",
   "metadata": {},
   "outputs": [
    {
     "data": {
      "text/plain": [
       "1.959963984540054"
      ]
     },
     "execution_count": 35,
     "metadata": {},
     "output_type": "execute_result"
    }
   ],
   "source": [
    "z_critical=(st.norm.ppf(1-alpha/2))\n",
    "z_critical"
   ]
  },
  {
   "cell_type": "code",
   "execution_count": 36,
   "id": "3f2145cf-1c82-4598-bcd1-758cf9b7bc07",
   "metadata": {},
   "outputs": [
    {
     "name": "stdout",
     "output_type": "stream",
     "text": [
      "reject the null\n"
     ]
    }
   ],
   "source": [
    "if z<z_critical:\n",
    "    print(\"null hypothesis cannot be rejected\")\n",
    "else:\n",
    "    print(\"reject the null\")"
   ]
  },
  {
   "cell_type": "markdown",
   "id": "ddf9dd82-2906-47d4-a0e1-b105af1777ec",
   "metadata": {},
   "source": [
    "# Section 3 : t-Test\n",
    "Example 3.1 : Hospital Infections\n",
    "A medical investigation claims that the average number of infections per week at a ­hospital in southwestern Pennsylvania is 16.3. A random sample of 10 weeks had a mean number of 17.7 infections. The sample standard deviation is 1.8. Is there enough evidence to reject the investigator’s claim at α = 0.05? Assume the variable is normally distributed."
   ]
  },
  {
   "cell_type": "code",
   "execution_count": 67,
   "id": "32bdb4c1-23f0-411f-9dcb-ba89b687e7b8",
   "metadata": {},
   "outputs": [],
   "source": [
    "#H0 : μ = 16.3, Ha : μ != 16.3\n",
    "\n",
    "n=10\n",
    "degrees_of_freedom = n-1\n",
    "sample_mean=17.7\n",
    "alpha=0.05\n",
    "population_mean=16.3\n",
    "sigma=1.8"
   ]
  },
  {
   "cell_type": "code",
   "execution_count": 44,
   "id": "1d1cbb7a-dd5c-4f98-b4d8-838bf7c508bd",
   "metadata": {},
   "outputs": [
    {
     "data": {
      "text/plain": [
       "2.51743917503482"
      ]
     },
     "execution_count": 44,
     "metadata": {},
     "output_type": "execute_result"
    }
   ],
   "source": [
    "t=(sample_mean-population_mean)/(sigma/np.sqrt(n))\n",
    "t"
   ]
  },
  {
   "cell_type": "code",
   "execution_count": 45,
   "id": "bd215df9-77f8-4877-8c43-ce4a6bf92143",
   "metadata": {},
   "outputs": [
    {
     "data": {
      "text/plain": [
       "-2.1447866879169277"
      ]
     },
     "execution_count": 45,
     "metadata": {},
     "output_type": "execute_result"
    }
   ],
   "source": [
    "t_critical = st.t.ppf(alpha/2, degrees_of_freedom)\n",
    "t_critical"
   ]
  },
  {
   "cell_type": "code",
   "execution_count": 47,
   "id": "b3c1dc65-18db-4313-b74f-726a2f51a450",
   "metadata": {},
   "outputs": [
    {
     "name": "stdout",
     "output_type": "stream",
     "text": [
      "Reject null hypothesis\n"
     ]
    }
   ],
   "source": [
    "if (abs(t) > abs(t_critical)): #Absolute value taken as the it's a two-tailed test and the original t_critical value might be negative\n",
    "    print(\"Reject null hypothesis\")\n",
    "else:\n",
    "    print(\"Null hypothesis cannot be rejected\")\n",
    "\n",
    "    "
   ]
  },
  {
   "cell_type": "code",
   "execution_count": 37,
   "id": "b174eab8-2a4f-43f4-963f-5659d550f3de",
   "metadata": {},
   "outputs": [
    {
     "data": {
      "text/plain": [
       "2.51743917503482"
      ]
     },
     "execution_count": 37,
     "metadata": {},
     "output_type": "execute_result"
    }
   ],
   "source": [
    "t=(sample_mean-population_mean)/(sigma/np.sqrt(n))\n",
    "t"
   ]
  },
  {
   "cell_type": "code",
   "execution_count": 41,
   "id": "b58a629f-567e-4677-a34f-021fa2aaf151",
   "metadata": {},
   "outputs": [
    {
     "data": {
      "text/plain": [
       "0.024622378107313603"
      ]
     },
     "execution_count": 41,
     "metadata": {},
     "output_type": "execute_result"
    }
   ],
   "source": [
    "p_val=2*(1-st.t.cdf(t,degrees_of_freedom))\n",
    "p_val"
   ]
  },
  {
   "cell_type": "code",
   "execution_count": 42,
   "id": "ec1bff77-861e-4c97-aa00-825fac9a52c9",
   "metadata": {},
   "outputs": [
    {
     "name": "stdout",
     "output_type": "stream",
     "text": [
      "reject null\n"
     ]
    }
   ],
   "source": [
    "if p_val>alpha:\n",
    "    print(\"null hypothesis cannot be rejected\")\n",
    "else:\n",
    "    print(\"reject null\")"
   ]
  },
  {
   "cell_type": "markdown",
   "id": "77dc0a77-7526-464b-b2f7-7cc98e7ff0a5",
   "metadata": {},
   "source": [
    "# Section 4 : t-Test using P-value"
   ]
  },
  {
   "cell_type": "markdown",
   "id": "e7b4a7f8-4c02-423d-8321-2d6083ccbb70",
   "metadata": {},
   "source": [
    "# Example 4.1 : Jogger’s Oxygen Uptake\n",
    "A physician claims that joggers’ maximal volume oxygen uptake is greater than the average of all adults. A random sample of 15 joggers has a mean of 40.6 milliliters per kilogram (ml/kg) and a standard deviation of 6 ml/kg. If the average of all adults is 36.7 ml/kg, is there enough evidence to support the physician’s claim at α = 0.05? Assume the variable is normally distributed."
   ]
  },
  {
   "cell_type": "code",
   "execution_count": 50,
   "id": "abfb56d3-3463-4cd1-88bc-5853f50c9be4",
   "metadata": {},
   "outputs": [],
   "source": [
    "#H0 : μ = 36.7, Ha : μ > 36.7\n",
    "n=10\n",
    "degrees_of_freedom = n-1\n",
    "sample_mean=40.6\n",
    "alpha=0.05\n",
    "population_mean=36.7\n",
    "sigma=6"
   ]
  },
  {
   "cell_type": "code",
   "execution_count": 51,
   "id": "e124c7f7-81ae-4116-98f2-02731e3cd3a8",
   "metadata": {},
   "outputs": [
    {
     "data": {
      "text/plain": [
       "2.055480479109446"
      ]
     },
     "execution_count": 51,
     "metadata": {},
     "output_type": "execute_result"
    }
   ],
   "source": [
    "t=(sample_mean-population_mean)/(sigma/np.sqrt(n))\n",
    "t"
   ]
  },
  {
   "cell_type": "code",
   "execution_count": 52,
   "id": "ab5b5f55-1f3e-4d9f-9786-f97ad8fcd92b",
   "metadata": {},
   "outputs": [
    {
     "data": {
      "text/plain": [
       "0.0349951503924022"
      ]
     },
     "execution_count": 52,
     "metadata": {},
     "output_type": "execute_result"
    }
   ],
   "source": [
    "p_val = (1 - st.t.cdf(abs(t), degrees_of_freedom)) #\"1 - cdf\" because it's a right-tailed test\n",
    "p_val"
   ]
  },
  {
   "cell_type": "code",
   "execution_count": 53,
   "id": "75a03d68-bfcb-4ba1-b30c-38fcd8a1618f",
   "metadata": {},
   "outputs": [
    {
     "name": "stdout",
     "output_type": "stream",
     "text": [
      "Reject null hypothesis\n"
     ]
    }
   ],
   "source": [
    "if (p_val > alpha):\n",
    "    print(\"Null hypothesis cannot be rejected\")\n",
    "else:\n",
    "    print(\"Reject null hypothesis\")"
   ]
  },
  {
   "cell_type": "code",
   "execution_count": 54,
   "id": "88dc2fe2-6741-4a44-b28e-1f5e9dae1198",
   "metadata": {},
   "outputs": [
    {
     "data": {
      "text/plain": [
       "2.055480479109446"
      ]
     },
     "execution_count": 54,
     "metadata": {},
     "output_type": "execute_result"
    }
   ],
   "source": [
    "t=(sample_mean-population_mean)/(sigma/np.sqrt(n))\n",
    "t"
   ]
  },
  {
   "cell_type": "code",
   "execution_count": 55,
   "id": "1a36b5dd-8e4f-48d9-be21-7ec0fb214f9b",
   "metadata": {},
   "outputs": [
    {
     "data": {
      "text/plain": [
       "1.8331129326536337"
      ]
     },
     "execution_count": 55,
     "metadata": {},
     "output_type": "execute_result"
    }
   ],
   "source": [
    "t_critical=abs(st.t.ppf(alpha,degrees_of_freedom))\n",
    "t_critical"
   ]
  },
  {
   "cell_type": "code",
   "execution_count": 56,
   "id": "3570cbd1-3465-41cb-baa0-16094671407f",
   "metadata": {},
   "outputs": [
    {
     "name": "stdout",
     "output_type": "stream",
     "text": [
      "reject null\n"
     ]
    }
   ],
   "source": [
    "if abs(t)<abs(t_critical):\n",
    "    print(\"cannot reject null\")\n",
    "else:\n",
    "    print(\"reject null\")"
   ]
  },
  {
   "cell_type": "code",
   "execution_count": null,
   "id": "625e0330-afb9-43b9-8cbf-ab3dc5b518c2",
   "metadata": {},
   "outputs": [],
   "source": []
  }
 ],
 "metadata": {
  "kernelspec": {
   "display_name": "Python 3 (ipykernel)",
   "language": "python",
   "name": "python3"
  },
  "language_info": {
   "codemirror_mode": {
    "name": "ipython",
    "version": 3
   },
   "file_extension": ".py",
   "mimetype": "text/x-python",
   "name": "python",
   "nbconvert_exporter": "python",
   "pygments_lexer": "ipython3",
   "version": "3.9.6"
  }
 },
 "nbformat": 4,
 "nbformat_minor": 5
}
