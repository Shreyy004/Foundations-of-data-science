{
 "cells": [
  {
   "cell_type": "code",
   "execution_count": 1,
   "id": "145051df-e8e7-42f8-8526-f999b7e57518",
   "metadata": {},
   "outputs": [
    {
     "name": "stdout",
     "output_type": "stream",
     "text": [
      "(400.4, 777, 'Aman', '222')\n"
     ]
    }
   ],
   "source": [
    "set = {\"Aman\",\"222\",777,400.4}\n",
    "tuple = tuple(set)\n",
    "print(tuple)"
   ]
  },
  {
   "cell_type": "code",
   "execution_count": 2,
   "id": "a68fd509-5645-40f7-b1df-baa408d0d993",
   "metadata": {},
   "outputs": [
    {
     "name": "stdout",
     "output_type": "stream",
     "text": [
      "dict_keys(['Roll no.', 'Lastname', 'Firstname', 'DOB']) \n",
      " dict_values(['CB.EN.U4CSE22544', 'Venkatesh', 'Shreya', '2004-05-15'])\n"
     ]
    }
   ],
   "source": [
    "dict = {\"Roll no.\":\"CB.EN.U4CSE22544\",\"Lastname\":\"Venkatesh\",\"Firstname\":\"Shreya\",\"DOB\":\"2004-05-15\"}\n",
    "print(dict.keys(),\"\\n\",dict.values())"
   ]
  },
  {
   "cell_type": "code",
   "execution_count": 3,
   "id": "bf9dcbf2-45b8-4e24-9b89-d173e637210a",
   "metadata": {},
   "outputs": [
    {
     "name": "stdout",
     "output_type": "stream",
     "text": [
      "Integer array: [[3 7 7]\n",
      " [0 1 0]\n",
      " [9 8 9]]\n",
      "Floating array: [[0.39719446 0.2331322  0.84174072]\n",
      " [0.20708234 0.74246953 0.39215413]\n",
      " [0.18225652 0.74353941 0.06958208]]\n"
     ]
    }
   ],
   "source": [
    "import numpy as np\n",
    "np.random.seed(1000)\n",
    "arr = np.random.randint(0,10,size=(3,3))\n",
    "print(\"Integer array:\",arr)\n",
    "arr = np.random.rand(3,3)\n",
    "print(\"Floating array:\",arr)"
   ]
  },
  {
   "cell_type": "code",
   "execution_count": 4,
   "id": "ffca2b3f-4b92-44c1-8ffa-df8e0f5a9805",
   "metadata": {},
   "outputs": [
    {
     "name": "stdout",
     "output_type": "stream",
     "text": [
      "Random Number: 0.9338746557642025\n",
      "Absolute value of -1234: 1234\n"
     ]
    }
   ],
   "source": [
    "import random as rm\n",
    "num = rm.random()\n",
    "#num_py= np.random.uniform(0,1)\n",
    "abs_value = abs(-1234)\n",
    "#print(num_py)\n",
    "print(\"Random Number:\",num)\n",
    "print(\"Absolute value of -1234:\",abs_value)"
   ]
  },
  {
   "cell_type": "code",
   "execution_count": 5,
   "id": "a30ff9e7-d18a-4649-8a74-88fe80ae199b",
   "metadata": {},
   "outputs": [
    {
     "name": "stdout",
     "output_type": "stream",
     "text": [
      "50\n"
     ]
    }
   ],
   "source": [
    "N = np.random.randint(20,90) \n",
    "print(N)"
   ]
  },
  {
   "cell_type": "code",
   "execution_count": 6,
   "id": "be54e18f-8650-463a-a56f-4c10be5f5ce2",
   "metadata": {},
   "outputs": [
    {
     "name": "stdout",
     "output_type": "stream",
     "text": [
      "Unique elements:  [11, 14, 13]\n",
      "Shuffled set:  [14, 11, 15, 13, 12]\n",
      "Random Number:  15\n"
     ]
    }
   ],
   "source": [
    "set = [11,12,13,14,15]\n",
    "unique_nums = rm.sample(set,3)\n",
    "print(\"Unique elements: \",unique_nums)\n",
    "\n",
    "rm.shuffle(set)\n",
    "print(\"Shuffled set: \",set)\n",
    "\n",
    "print(\"Random Number: \",rm.choice(set))"
   ]
  },
  {
   "cell_type": "code",
   "execution_count": 7,
   "id": "d898519a-1c98-45ff-b9cf-9a99740c5048",
   "metadata": {},
   "outputs": [
    {
     "name": "stdout",
     "output_type": "stream",
     "text": [
      "the king is dead, long live the king\n"
     ]
    }
   ],
   "source": [
    "text = \"the king is dead, long live the king\"\n",
    "with open('deadking.txt','w') as file:\n",
    "    file.write(text)\n",
    "with open('deadking.txt','r') as file:\n",
    "    readtxt = file.read()\n",
    "\n",
    "print(readtxt)"
   ]
  },
  {
   "cell_type": "code",
   "execution_count": 8,
   "id": "45932eea-ecda-4af1-9424-51fe778b4107",
   "metadata": {},
   "outputs": [
    {
     "name": "stdout",
     "output_type": "stream",
     "text": [
      "negative number\n",
      "skipping the number 1:\n",
      "0 2 3 4 5 6 7 8 9 \n",
      "while with break:\n",
      "0 1 2 3 "
     ]
    }
   ],
   "source": [
    "def illustrative_func():\n",
    "    \n",
    "    num = -1\n",
    "    if(num == 1 or num==0):\n",
    "        print(\"binary digit \")\n",
    "    elif num>1:\n",
    "        print(\"integer\")\n",
    "    else:\n",
    "        print(\"negative number\")\n",
    "    \n",
    "    print(\"skipping the number 1:\")\n",
    "    for i in range(10):\n",
    "        if(i==1):\n",
    "            continue\n",
    "        print(i,end=\" \")\n",
    "        \n",
    "    print(\"\\nwhile with break:\")\n",
    "    c = 0\n",
    "    while(c <=5):\n",
    "        if c == 4:\n",
    "            break\n",
    "        print(c,end=\" \")\n",
    "        c += 1\n",
    "        \n",
    "illustrative_func()"
   ]
  },
  {
   "cell_type": "code",
   "execution_count": 9,
   "id": "c092a2d4-8b78-43f0-ad1d-d90494894344",
   "metadata": {},
   "outputs": [
    {
     "name": "stdout",
     "output_type": "stream",
     "text": [
      "the king is dead, long live the king\n",
      "the first character of the string: t\n",
      "characters starting from 3rd to 5th: e k\n",
      "string starting from 3rd character: e king is dead, long live the king\n",
      "the words: ['the', 'king', 'is', 'dead,', 'long', 'live', 'the', 'king']\n"
     ]
    }
   ],
   "source": [
    "text = \"the king is dead, long live the king\"\n",
    "print(text)\n",
    "print(\"the first character of the string:\",text[0])\n",
    "print(\"characters starting from 3rd to 5th:\",text[2:5])\n",
    "print(\"string starting from 3rd character:\",text[2:])\n",
    "print(\"the words:\",text.split())"
   ]
  },
  {
   "cell_type": "code",
   "execution_count": 10,
   "id": "1e9ba26c-adb8-48dd-912d-c44bce880c0b",
   "metadata": {},
   "outputs": [
    {
     "name": "stdout",
     "output_type": "stream",
     "text": [
      "Sliced elements: [1. 4.]\n"
     ]
    }
   ],
   "source": [
    "arr=np.array([1.0,4.0,5.0,8.0])\n",
    "print(\"Sliced elements:\",arr[:2])"
   ]
  },
  {
   "cell_type": "code",
   "execution_count": 11,
   "id": "3fc63a91-3469-4e7d-a8ea-9d2a612e867e",
   "metadata": {},
   "outputs": [
    {
     "name": "stdout",
     "output_type": "stream",
     "text": [
      "[[1 2 3]\n",
      " [4 5 6]]\n"
     ]
    }
   ],
   "source": [
    "_2d=np.array([[1,2,3],[4,5,6]])\n",
    "print(_2d)"
   ]
  },
  {
   "cell_type": "code",
   "execution_count": 12,
   "id": "4e4cd590-322a-43ee-a248-df3c988cbd5b",
   "metadata": {},
   "outputs": [
    {
     "name": "stdout",
     "output_type": "stream",
     "text": [
      "second row: [4 5 6]\n",
      "[2. 5.]\n",
      "length of the 2d array: 2\n"
     ]
    }
   ],
   "source": [
    "print(\"second row:\",_2d[1])\n",
    "\n",
    "float = np.array([_2d[0,1],_2d[1,1]],dtype=\"float\")\n",
    "print(float)\n",
    "\n",
    "print(\"length of the 2d array:\",len(_2d))"
   ]
  },
  {
   "cell_type": "code",
   "execution_count": 13,
   "id": "512b0e91-fb66-4d8c-a7a9-4d642c9e060c",
   "metadata": {},
   "outputs": [
    {
     "name": "stdout",
     "output_type": "stream",
     "text": [
      "1d array: [0 1 2 3]\n",
      "2d array:\n",
      " [[0 1]\n",
      " [2 3]] \n",
      "transpose of 2d array:\n",
      " [[0 2]\n",
      " [1 3]]\n"
     ]
    }
   ],
   "source": [
    "arr1d = np.arange(4)\n",
    "arr2d=arr1d.reshape((2,2))\n",
    "print(\"1d array:\",arr1d)\n",
    "print(\"2d array:\\n\",arr2d,end=\" \\n\")\n",
    "print(\"transpose of 2d array:\\n\",arr2d.T)"
   ]
  },
  {
   "cell_type": "code",
   "execution_count": 14,
   "id": "b6c5e669-1fe9-4315-9a8e-73c165c9ed3d",
   "metadata": {},
   "outputs": [
    {
     "name": "stdout",
     "output_type": "stream",
     "text": [
      "[1 2 3]\n"
     ]
    }
   ],
   "source": [
    "array = np.array([1,2,3])\n",
    "print(array)"
   ]
  },
  {
   "cell_type": "code",
   "execution_count": 15,
   "id": "bfcdb39e-5c1f-437b-a9d1-096aefcfe837",
   "metadata": {},
   "outputs": [
    {
     "name": "stdout",
     "output_type": "stream",
     "text": [
      "[9 9 9]\n"
     ]
    }
   ],
   "source": [
    "swap = np.full_like(array,9)\n",
    "print(swap)"
   ]
  },
  {
   "cell_type": "code",
   "execution_count": 16,
   "id": "2c94813e-1487-40f1-8000-699c502e3b89",
   "metadata": {},
   "outputs": [
    {
     "name": "stdout",
     "output_type": "stream",
     "text": [
      "Sum of array elements 11\n"
     ]
    }
   ],
   "source": [
    "a = np.array([2,4,5])\n",
    "print(\"Sum of array elements\",np.sum(a))"
   ]
  },
  {
   "cell_type": "code",
   "execution_count": 17,
   "id": "b146a001-0605-46f5-8333-6ec0bb8f8219",
   "metadata": {},
   "outputs": [
    {
     "name": "stdout",
     "output_type": "stream",
     "text": [
      "Product of array elements 427350\n"
     ]
    }
   ],
   "source": [
    "a = np.array([77,74,75])\n",
    "print(\"Product of array elements\",np.prod(a))"
   ]
  },
  {
   "cell_type": "code",
   "execution_count": 18,
   "id": "338c44d9-d3a8-4060-98d0-0de0ba37b12a",
   "metadata": {},
   "outputs": [
    {
     "name": "stdout",
     "output_type": "stream",
     "text": [
      "Mean: 12.461538461538462\n",
      "median: 2.0\n",
      "standard deviation: 19.165736192147232\n",
      "Variance: 367.32544378698225\n",
      "Min: 1\n",
      "Max: 56\n",
      "argmin: 1\n",
      "argmax: 12\n"
     ]
    }
   ],
   "source": [
    "desc = np.array([2,1,9,1,2,22,1,1,4,55,6,2,56])\n",
    "print(\"Mean:\",np.mean(desc))\n",
    "print(\"median:\",np.median(desc))\n",
    "print(\"standard deviation:\",np.std(desc))\n",
    "print(\"Variance:\",np.var(desc))\n",
    "print(\"Min:\",np.min(desc))\n",
    "print(\"Max:\",np.max(desc))\n",
    "print(\"argmin:\",np.argmin(desc))\n",
    "print(\"argmax:\",np.argmax(desc))"
   ]
  },
  {
   "cell_type": "code",
   "execution_count": 19,
   "id": "df7e9b14-f5da-4f46-9435-a0c2bad77de0",
   "metadata": {},
   "outputs": [
    {
     "name": "stdout",
     "output_type": "stream",
     "text": [
      "[1 4 5 7]\n"
     ]
    }
   ],
   "source": [
    "arr = np.array([1,1,4,5,5,5,7])\n",
    "unique = np.unique(arr)\n",
    "print(np.sort(unique))"
   ]
  },
  {
   "cell_type": "code",
   "execution_count": 20,
   "id": "b5826ac1-7a37-41b9-af17-0a9dcc59725e",
   "metadata": {},
   "outputs": [
    {
     "name": "stdout",
     "output_type": "stream",
     "text": [
      "dot product: 5\n"
     ]
    }
   ],
   "source": [
    "a1 = np.array([1,2,3])\n",
    "a2=np.array([0,1,1])\n",
    "print(\"dot product:\",np.dot(a1,a2))"
   ]
  },
  {
   "cell_type": "code",
   "execution_count": 21,
   "id": "cfcd07e7-40b6-4910-a6eb-3ace4dbbc746",
   "metadata": {},
   "outputs": [
    {
     "name": "stdout",
     "output_type": "stream",
     "text": [
      "eigenvalues: [-1. -2.]\n",
      "eigenvectors:\n",
      " [[0.9701425  0.9486833 ]\n",
      " [0.24253563 0.31622777]]\n"
     ]
    }
   ],
   "source": [
    "a = np.array([[2,-12],[1,-5]])\n",
    "eigenvalues,eigenvectors = np.linalg.eig(a)\n",
    "print(\"eigenvalues:\",eigenvalues)\n",
    "print(\"eigenvectors:\\n\",eigenvectors,end=\"\\n\")"
   ]
  },
  {
   "cell_type": "code",
   "execution_count": 22,
   "id": "96fa9b02-e9f9-48ad-905f-ce694a915e79",
   "metadata": {},
   "outputs": [
    {
     "name": "stdout",
     "output_type": "stream",
     "text": [
      "correlation coeff:\n",
      " [[1.         0.15997968]\n",
      " [0.15997968 1.        ]]\n"
     ]
    }
   ],
   "source": [
    "a = np.array([[11, 22, 11, 31], [25, 33, 31, 28]],dtype=\"float\")\n",
    "print(\"correlation coeff:\\n\",np.corrcoef(a))"
   ]
  },
  {
   "cell_type": "code",
   "execution_count": null,
   "id": "f140f4c2-7da1-48d2-b693-60ba60567509",
   "metadata": {},
   "outputs": [],
   "source": []
  }
 ],
 "metadata": {
  "kernelspec": {
   "display_name": "Python 3 (ipykernel)",
   "language": "python",
   "name": "python3"
  },
  "language_info": {
   "codemirror_mode": {
    "name": "ipython",
    "version": 3
   },
   "file_extension": ".py",
   "mimetype": "text/x-python",
   "name": "python",
   "nbconvert_exporter": "python",
   "pygments_lexer": "ipython3",
   "version": "3.9.6"
  }
 },
 "nbformat": 4,
 "nbformat_minor": 5
}
